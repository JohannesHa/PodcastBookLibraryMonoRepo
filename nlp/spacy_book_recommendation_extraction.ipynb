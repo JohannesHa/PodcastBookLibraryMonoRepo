{
  "nbformat": 4,
  "nbformat_minor": 0,
  "metadata": {
    "accelerator": "GPU",
    "colab": {
      "name": "spacy book recommendation extraction.ipynb",
      "provenance": [],
      "collapsed_sections": []
    },
    "kernelspec": {
      "display_name": "Python 3",
      "name": "python3"
    },
    "language_info": {
      "name": "python"
    }
  },
  "cells": [
    {
      "cell_type": "markdown",
      "metadata": {
        "id": "WSSQ0j9T08bo"
      },
      "source": [
        "## Install Dependencies"
      ]
    },
    {
      "cell_type": "markdown",
      "metadata": {
        "id": "yVmeChvo0H0G"
      },
      "source": [
        "To accelerate the training process, it's is necessary to run parallel processing on our GPU. For this purpose, install the NVIDIA 9.2 cuda library."
      ]
    },
    {
      "cell_type": "code",
      "metadata": {
        "colab": {
          "base_uri": "https://localhost:8080/"
        },
        "id": "XLYjtEm3bKaS",
        "outputId": "e407bd67-6be7-40f9-f68c-5382d4c37996"
      },
      "source": [
        "!wget https://developer.nvidia.com/compute/cuda/9.2/Prod/local_installers/cuda-repo-ubuntu1604-9-2-local_9.2.88-1_amd64 -O cuda-repo-ubuntu1604–9–2-local_9.2.88–1_amd64.deb\n",
        "!dpkg -i cuda-repo-ubuntu1604–9–2-local_9.2.88–1_amd64.deb\n",
        "!apt-key add /var/cuda-repo-9–2-local/7fa2af80.pub\n",
        "!apt-get update\n",
        "!apt-get install cuda-9.2"
      ],
      "execution_count": 2,
      "outputs": [
        {
          "output_type": "stream",
          "text": [
            "--2021-08-12 19:36:43--  https://developer.nvidia.com/compute/cuda/9.2/Prod/local_installers/cuda-repo-ubuntu1604-9-2-local_9.2.88-1_amd64\n",
            "Resolving developer.nvidia.com (developer.nvidia.com)... 152.199.0.24\n",
            "Connecting to developer.nvidia.com (developer.nvidia.com)|152.199.0.24|:443... connected.\n",
            "HTTP request sent, awaiting response... 301 Moved Permanently\n",
            "Location: https://developer.nvidia.com/compute/cuda/9.2/prod/local_installers/cuda-repo-ubuntu1604-9-2-local_9.2.88-1_amd64 [following]\n",
            "--2021-08-12 19:36:44--  https://developer.nvidia.com/compute/cuda/9.2/prod/local_installers/cuda-repo-ubuntu1604-9-2-local_9.2.88-1_amd64\n",
            "Reusing existing connection to developer.nvidia.com:443.\n",
            "HTTP request sent, awaiting response... 302 Found\n",
            "Location: https://developer.download.nvidia.com/compute/cuda/9.2/secure/Prod/local_installers/cuda-repo-ubuntu1604-9-2-local_9.2.88-1_amd64.deb?XroxX1lMtyXJcAMTv61xkOchZavsoGHwXkcPUMaHW_6oAHzqVi9z7C4r-GBePClUiV3zGXLxDjofCxYmEprPY5MPON4BqHbAYzf_HRYJTPWpN_OmBKtEWBQ8yVKVQ2gJYvDJtNSg7t9yJoIIG1Z2PLft4tKgWiiRSnW2ABSZmuDPXhCn0LY-jnZgscNQf9DT1PfjdeTE9s7BC9YpB90 [following]\n",
            "--2021-08-12 19:36:44--  https://developer.download.nvidia.com/compute/cuda/9.2/secure/Prod/local_installers/cuda-repo-ubuntu1604-9-2-local_9.2.88-1_amd64.deb?XroxX1lMtyXJcAMTv61xkOchZavsoGHwXkcPUMaHW_6oAHzqVi9z7C4r-GBePClUiV3zGXLxDjofCxYmEprPY5MPON4BqHbAYzf_HRYJTPWpN_OmBKtEWBQ8yVKVQ2gJYvDJtNSg7t9yJoIIG1Z2PLft4tKgWiiRSnW2ABSZmuDPXhCn0LY-jnZgscNQf9DT1PfjdeTE9s7BC9YpB90\n",
            "Resolving developer.download.nvidia.com (developer.download.nvidia.com)... 152.195.19.142\n",
            "Connecting to developer.download.nvidia.com (developer.download.nvidia.com)|152.195.19.142|:443... connected.\n",
            "HTTP request sent, awaiting response... 200 OK\n",
            "Length: 1267391958 (1.2G) [application/x-deb]\n",
            "Saving to: ‘cuda-repo-ubuntu1604–9–2-local_9.2.88–1_amd64.deb’\n",
            "\n",
            "cuda-repo-ubuntu160 100%[===================>]   1.18G   220MB/s    in 5.4s    \n",
            "\n",
            "2021-08-12 19:36:49 (225 MB/s) - ‘cuda-repo-ubuntu1604–9–2-local_9.2.88–1_amd64.deb’ saved [1267391958/1267391958]\n",
            "\n",
            "Selecting previously unselected package cuda-repo-ubuntu1604-9-2-local.\n",
            "(Reading database ... 160837 files and directories currently installed.)\n",
            "Preparing to unpack cuda-repo-ubuntu1604–9–2-local_9.2.88–1_amd64.deb ...\n",
            "Unpacking cuda-repo-ubuntu1604-9-2-local (9.2.88-1) ...\n",
            "Setting up cuda-repo-ubuntu1604-9-2-local (9.2.88-1) ...\n",
            "gpg: can't open '/var/cuda-repo-9–2-local/7fa2af80.pub': No such file or directory\n",
            "Get:1 file:/var/cuda-repo-9-2-local  InRelease\n",
            "Ign:1 file:/var/cuda-repo-9-2-local  InRelease\n",
            "Get:2 file:/var/cuda-repo-9-2-local  Release [574 B]\n",
            "Get:2 file:/var/cuda-repo-9-2-local  Release [574 B]\n",
            "Get:3 file:/var/cuda-repo-9-2-local  Release.gpg [819 B]\n",
            "Get:3 file:/var/cuda-repo-9-2-local  Release.gpg [819 B]\n",
            "Ign:4 https://developer.download.nvidia.com/compute/cuda/repos/ubuntu1804/x86_64  InRelease\n",
            "Ign:5 https://developer.download.nvidia.com/compute/machine-learning/repos/ubuntu1804/x86_64  InRelease\n",
            "Get:6 https://developer.download.nvidia.com/compute/cuda/repos/ubuntu1804/x86_64  Release [697 B]\n",
            "Hit:7 https://developer.download.nvidia.com/compute/machine-learning/repos/ubuntu1804/x86_64  Release\n",
            "Get:8 https://developer.download.nvidia.com/compute/cuda/repos/ubuntu1804/x86_64  Release.gpg [836 B]\n",
            "Get:9 https://cloud.r-project.org/bin/linux/ubuntu bionic-cran40/ InRelease [3,626 B]\n",
            "Get:10 file:/var/cuda-repo-9-2-local  Packages [18.7 kB]\n",
            "Get:11 http://security.ubuntu.com/ubuntu bionic-security InRelease [88.7 kB]\n",
            "Get:12 http://ppa.launchpad.net/c2d4u.team/c2d4u4.0+/ubuntu bionic InRelease [15.9 kB]\n",
            "Hit:14 http://archive.ubuntu.com/ubuntu bionic InRelease\n",
            "Get:15 http://archive.ubuntu.com/ubuntu bionic-updates InRelease [88.7 kB]\n",
            "Ign:16 https://developer.download.nvidia.com/compute/cuda/repos/ubuntu1804/x86_64  Packages\n",
            "Get:16 https://developer.download.nvidia.com/compute/cuda/repos/ubuntu1804/x86_64  Packages [695 kB]\n",
            "Hit:17 http://ppa.launchpad.net/cran/libgit2/ubuntu bionic InRelease\n",
            "Get:18 https://cloud.r-project.org/bin/linux/ubuntu bionic-cran40/ Packages [66.2 kB]\n",
            "Get:19 http://ppa.launchpad.net/deadsnakes/ppa/ubuntu bionic InRelease [15.9 kB]\n",
            "Get:20 http://archive.ubuntu.com/ubuntu bionic-backports InRelease [74.6 kB]\n",
            "Get:21 http://security.ubuntu.com/ubuntu bionic-security/main amd64 Packages [2,263 kB]\n",
            "Get:22 http://ppa.launchpad.net/graphics-drivers/ppa/ubuntu bionic InRelease [21.3 kB]\n",
            "Get:23 http://archive.ubuntu.com/ubuntu bionic-updates/main amd64 Packages [2,699 kB]\n",
            "Get:24 http://ppa.launchpad.net/c2d4u.team/c2d4u4.0+/ubuntu bionic/main Sources [1,786 kB]\n",
            "Get:25 http://security.ubuntu.com/ubuntu bionic-security/multiverse amd64 Packages [26.7 kB]\n",
            "Get:26 http://security.ubuntu.com/ubuntu bionic-security/restricted amd64 Packages [510 kB]\n",
            "Get:27 http://security.ubuntu.com/ubuntu bionic-security/universe amd64 Packages [1,421 kB]\n",
            "Get:28 http://archive.ubuntu.com/ubuntu bionic-updates/multiverse amd64 Packages [39.4 kB]\n",
            "Get:29 http://archive.ubuntu.com/ubuntu bionic-updates/restricted amd64 Packages [544 kB]\n",
            "Get:30 http://archive.ubuntu.com/ubuntu bionic-updates/universe amd64 Packages [2,196 kB]\n",
            "Get:31 http://ppa.launchpad.net/c2d4u.team/c2d4u4.0+/ubuntu bionic/main amd64 Packages [914 kB]\n",
            "Get:32 http://ppa.launchpad.net/deadsnakes/ppa/ubuntu bionic/main amd64 Packages [40.9 kB]\n",
            "Get:33 http://ppa.launchpad.net/graphics-drivers/ppa/ubuntu bionic/main amd64 Packages [44.1 kB]\n",
            "Fetched 13.6 MB in 5s (2,795 kB/s)\n",
            "Reading package lists... Done\n",
            "Reading package lists... Done\n",
            "Building dependency tree       \n",
            "Reading state information... Done\n",
            "Note, selecting 'cuda-9-2' for regex 'cuda-9.2'\n",
            "Note, selecting 'libcuda-9.2-1' for regex 'cuda-9.2'\n",
            "The following additional packages will be installed:\n",
            "  cuda-command-line-tools-9-2 cuda-compiler-9-2 cuda-cublas-9-2\n",
            "  cuda-cublas-dev-9-2 cuda-cudart-9-2 cuda-cudart-dev-9-2 cuda-cufft-9-2\n",
            "  cuda-cufft-dev-9-2 cuda-cuobjdump-9-2 cuda-cupti-9-2 cuda-curand-9-2\n",
            "  cuda-curand-dev-9-2 cuda-cusolver-9-2 cuda-cusolver-dev-9-2\n",
            "  cuda-cusparse-9-2 cuda-cusparse-dev-9-2 cuda-demo-suite-9-2\n",
            "  cuda-documentation-9-2 cuda-driver-dev-9-2 cuda-gdb-9-2\n",
            "  cuda-gpu-library-advisor-9-2 cuda-libraries-9-2 cuda-libraries-dev-9-2\n",
            "  cuda-license-9-2 cuda-memcheck-9-2 cuda-misc-headers-9-2 cuda-npp-9-2\n",
            "  cuda-npp-dev-9-2 cuda-nsight-9-2 cuda-nvcc-9-2 cuda-nvdisasm-9-2\n",
            "  cuda-nvgraph-9-2 cuda-nvgraph-dev-9-2 cuda-nvml-dev-9-2 cuda-nvprof-9-2\n",
            "  cuda-nvprune-9-2 cuda-nvrtc-9-2 cuda-nvrtc-dev-9-2 cuda-nvtx-9-2\n",
            "  cuda-nvvp-9-2 cuda-runtime-9-2 cuda-samples-9-2 cuda-toolkit-9-2\n",
            "  cuda-tools-9-2 cuda-visual-tools-9-2\n",
            "The following NEW packages will be installed:\n",
            "  cuda-9-2 cuda-command-line-tools-9-2 cuda-compiler-9-2 cuda-cublas-9-2\n",
            "  cuda-cublas-dev-9-2 cuda-cudart-9-2 cuda-cudart-dev-9-2 cuda-cufft-9-2\n",
            "  cuda-cufft-dev-9-2 cuda-cuobjdump-9-2 cuda-cupti-9-2 cuda-curand-9-2\n",
            "  cuda-curand-dev-9-2 cuda-cusolver-9-2 cuda-cusolver-dev-9-2\n",
            "  cuda-cusparse-9-2 cuda-cusparse-dev-9-2 cuda-demo-suite-9-2\n",
            "  cuda-documentation-9-2 cuda-driver-dev-9-2 cuda-gdb-9-2\n",
            "  cuda-gpu-library-advisor-9-2 cuda-libraries-9-2 cuda-libraries-dev-9-2\n",
            "  cuda-license-9-2 cuda-memcheck-9-2 cuda-misc-headers-9-2 cuda-npp-9-2\n",
            "  cuda-npp-dev-9-2 cuda-nsight-9-2 cuda-nvcc-9-2 cuda-nvdisasm-9-2\n",
            "  cuda-nvgraph-9-2 cuda-nvgraph-dev-9-2 cuda-nvml-dev-9-2 cuda-nvprof-9-2\n",
            "  cuda-nvprune-9-2 cuda-nvrtc-9-2 cuda-nvrtc-dev-9-2 cuda-nvtx-9-2\n",
            "  cuda-nvvp-9-2 cuda-runtime-9-2 cuda-samples-9-2 cuda-toolkit-9-2\n",
            "  cuda-tools-9-2 cuda-visual-tools-9-2\n",
            "0 upgraded, 46 newly installed, 0 to remove and 107 not upgraded.\n",
            "Need to get 0 B/1,146 MB of archives.\n",
            "After this operation, 2,642 MB of additional disk space will be used.\n",
            "Get:1 file:/var/cuda-repo-9-2-local  cuda-license-9-2 9.2.88-1 [22.0 kB]\n",
            "Get:2 file:/var/cuda-repo-9-2-local  cuda-misc-headers-9-2 9.2.88-1 [640 kB]\n",
            "Get:3 file:/var/cuda-repo-9-2-local  cuda-nvcc-9-2 9.2.88-1 [15.4 MB]\n",
            "Get:4 file:/var/cuda-repo-9-2-local  cuda-cuobjdump-9-2 9.2.88-1 [129 kB]\n",
            "Get:5 file:/var/cuda-repo-9-2-local  cuda-nvprune-9-2 9.2.88-1 [36.7 kB]\n",
            "Get:6 file:/var/cuda-repo-9-2-local  cuda-compiler-9-2 9.2.88-1 [2,518 B]\n",
            "Get:7 file:/var/cuda-repo-9-2-local  cuda-nvdisasm-9-2 9.2.88-1 [17.4 MB]\n",
            "Get:8 file:/var/cuda-repo-9-2-local  cuda-gdb-9-2 9.2.88-1 [2,765 kB]\n",
            "Get:9 file:/var/cuda-repo-9-2-local  cuda-nvprof-9-2 9.2.88-1 [4,737 kB]\n",
            "Get:10 file:/var/cuda-repo-9-2-local  cuda-memcheck-9-2 9.2.88-1 [137 kB]\n",
            "Get:11 file:/var/cuda-repo-9-2-local  cuda-cudart-9-2 9.2.88-1 [97.8 kB]\n",
            "Get:12 file:/var/cuda-repo-9-2-local  cuda-driver-dev-9-2 9.2.88-1 [11.1 kB]\n",
            "Get:13 file:/var/cuda-repo-9-2-local  cuda-cudart-dev-9-2 9.2.88-1 [718 kB]\n",
            "Get:14 file:/var/cuda-repo-9-2-local  cuda-cupti-9-2 9.2.88-1 [1,537 kB]\n",
            "Get:15 file:/var/cuda-repo-9-2-local  cuda-gpu-library-advisor-9-2 9.2.88-1 [1,002 kB]\n",
            "Get:16 file:/var/cuda-repo-9-2-local  cuda-nvtx-9-2 9.2.88-1 [24.3 kB]\n",
            "Get:17 file:/var/cuda-repo-9-2-local  cuda-command-line-tools-9-2 9.2.88-1 [26.3 kB]\n",
            "Get:18 file:/var/cuda-repo-9-2-local  cuda-nsight-9-2 9.2.88-1 [2,580 B]\n",
            "Get:19 file:/var/cuda-repo-9-2-local  cuda-nvvp-9-2 9.2.88-1 [2,528 B]\n",
            "Get:20 file:/var/cuda-repo-9-2-local  cuda-nvrtc-9-2 9.2.88-1 [5,908 kB]\n",
            "Get:21 file:/var/cuda-repo-9-2-local  cuda-nvrtc-dev-9-2 9.2.88-1 [9,318 B]\n",
            "Get:22 file:/var/cuda-repo-9-2-local  cuda-cusolver-9-2 9.2.88-1 [31.1 MB]\n",
            "Get:23 file:/var/cuda-repo-9-2-local  cuda-cusolver-dev-9-2 9.2.88-1 [8,184 kB]\n",
            "Get:24 file:/var/cuda-repo-9-2-local  cuda-cublas-9-2 9.2.88-1 [24.9 MB]\n",
            "Get:25 file:/var/cuda-repo-9-2-local  cuda-cublas-dev-9-2 9.2.88-1 [49.1 MB]\n",
            "Get:26 file:/var/cuda-repo-9-2-local  cuda-cufft-9-2 9.2.88-1 [51.5 MB]\n",
            "Get:27 file:/var/cuda-repo-9-2-local  cuda-cufft-dev-9-2 9.2.88-1 [106 MB]\n",
            "Get:28 file:/var/cuda-repo-9-2-local  cuda-curand-9-2 9.2.88-1 [38.8 MB]\n",
            "Get:29 file:/var/cuda-repo-9-2-local  cuda-curand-dev-9-2 9.2.88-1 [57.8 MB]\n",
            "Get:30 file:/var/cuda-repo-9-2-local  cuda-cusparse-9-2 9.2.88-1 [27.6 MB]\n",
            "Get:31 file:/var/cuda-repo-9-2-local  cuda-cusparse-dev-9-2 9.2.88-1 [27.8 MB]\n",
            "Get:32 file:/var/cuda-repo-9-2-local  cuda-npp-9-2 9.2.88-1 [52.1 MB]\n",
            "Get:33 file:/var/cuda-repo-9-2-local  cuda-npp-dev-9-2 9.2.88-1 [52.0 MB]\n",
            "Get:34 file:/var/cuda-repo-9-2-local  cuda-nvml-dev-9-2 9.2.88-1 [49.4 kB]\n",
            "Get:35 file:/var/cuda-repo-9-2-local  cuda-nvgraph-9-2 9.2.88-1 [11.7 MB]\n",
            "Get:36 file:/var/cuda-repo-9-2-local  cuda-nvgraph-dev-9-2 9.2.88-1 [30.0 MB]\n",
            "Get:37 file:/var/cuda-repo-9-2-local  cuda-visual-tools-9-2 9.2.88-1 [396 MB]\n",
            "Get:38 file:/var/cuda-repo-9-2-local  cuda-tools-9-2 9.2.88-1 [2,486 B]\n",
            "Get:39 file:/var/cuda-repo-9-2-local  cuda-samples-9-2 9.2.88-1 [76.3 MB]\n",
            "Get:40 file:/var/cuda-repo-9-2-local  cuda-documentation-9-2 9.2.88-1 [50.4 MB]\n",
            "Get:41 file:/var/cuda-repo-9-2-local  cuda-libraries-dev-9-2 9.2.88-1 [2,598 B]\n",
            "Get:42 file:/var/cuda-repo-9-2-local  cuda-toolkit-9-2 9.2.88-1 [2,828 B]\n",
            "Get:43 file:/var/cuda-repo-9-2-local  cuda-libraries-9-2 9.2.88-1 [2,568 B]\n",
            "Get:44 file:/var/cuda-repo-9-2-local  cuda-runtime-9-2 9.2.88-1 [2,530 B]\n",
            "Get:45 file:/var/cuda-repo-9-2-local  cuda-demo-suite-9-2 9.2.88-1 [3,889 kB]\n",
            "Get:46 file:/var/cuda-repo-9-2-local  cuda-9-2 9.2.88-1 [2,560 B]\n",
            "Extracting templates from packages: 100%\n",
            "Selecting previously unselected package cuda-license-9-2.\n",
            "(Reading database ... 160910 files and directories currently installed.)\n",
            "Preparing to unpack .../00-cuda-license-9-2_9.2.88-1_amd64.deb ...\n",
            "Unpacking cuda-license-9-2 (9.2.88-1) ...\n",
            "Selecting previously unselected package cuda-misc-headers-9-2.\n",
            "Preparing to unpack .../01-cuda-misc-headers-9-2_9.2.88-1_amd64.deb ...\n",
            "Unpacking cuda-misc-headers-9-2 (9.2.88-1) ...\n",
            "Selecting previously unselected package cuda-nvcc-9-2.\n",
            "Preparing to unpack .../02-cuda-nvcc-9-2_9.2.88-1_amd64.deb ...\n",
            "Unpacking cuda-nvcc-9-2 (9.2.88-1) ...\n",
            "Selecting previously unselected package cuda-cuobjdump-9-2.\n",
            "Preparing to unpack .../03-cuda-cuobjdump-9-2_9.2.88-1_amd64.deb ...\n",
            "Unpacking cuda-cuobjdump-9-2 (9.2.88-1) ...\n",
            "Selecting previously unselected package cuda-nvprune-9-2.\n",
            "Preparing to unpack .../04-cuda-nvprune-9-2_9.2.88-1_amd64.deb ...\n",
            "Unpacking cuda-nvprune-9-2 (9.2.88-1) ...\n",
            "Selecting previously unselected package cuda-compiler-9-2.\n",
            "Preparing to unpack .../05-cuda-compiler-9-2_9.2.88-1_amd64.deb ...\n",
            "Unpacking cuda-compiler-9-2 (9.2.88-1) ...\n",
            "Selecting previously unselected package cuda-nvdisasm-9-2.\n",
            "Preparing to unpack .../06-cuda-nvdisasm-9-2_9.2.88-1_amd64.deb ...\n",
            "Unpacking cuda-nvdisasm-9-2 (9.2.88-1) ...\n",
            "Selecting previously unselected package cuda-gdb-9-2.\n",
            "Preparing to unpack .../07-cuda-gdb-9-2_9.2.88-1_amd64.deb ...\n",
            "Unpacking cuda-gdb-9-2 (9.2.88-1) ...\n",
            "Selecting previously unselected package cuda-nvprof-9-2.\n",
            "Preparing to unpack .../08-cuda-nvprof-9-2_9.2.88-1_amd64.deb ...\n",
            "Unpacking cuda-nvprof-9-2 (9.2.88-1) ...\n",
            "Selecting previously unselected package cuda-memcheck-9-2.\n",
            "Preparing to unpack .../09-cuda-memcheck-9-2_9.2.88-1_amd64.deb ...\n",
            "Unpacking cuda-memcheck-9-2 (9.2.88-1) ...\n",
            "Selecting previously unselected package cuda-cudart-9-2.\n",
            "Preparing to unpack .../10-cuda-cudart-9-2_9.2.88-1_amd64.deb ...\n",
            "Unpacking cuda-cudart-9-2 (9.2.88-1) ...\n",
            "Selecting previously unselected package cuda-driver-dev-9-2.\n",
            "Preparing to unpack .../11-cuda-driver-dev-9-2_9.2.88-1_amd64.deb ...\n",
            "Unpacking cuda-driver-dev-9-2 (9.2.88-1) ...\n",
            "Selecting previously unselected package cuda-cudart-dev-9-2.\n",
            "Preparing to unpack .../12-cuda-cudart-dev-9-2_9.2.88-1_amd64.deb ...\n",
            "Unpacking cuda-cudart-dev-9-2 (9.2.88-1) ...\n",
            "Selecting previously unselected package cuda-cupti-9-2.\n",
            "Preparing to unpack .../13-cuda-cupti-9-2_9.2.88-1_amd64.deb ...\n",
            "Unpacking cuda-cupti-9-2 (9.2.88-1) ...\n",
            "Selecting previously unselected package cuda-gpu-library-advisor-9-2.\n",
            "Preparing to unpack .../14-cuda-gpu-library-advisor-9-2_9.2.88-1_amd64.deb ...\n",
            "Unpacking cuda-gpu-library-advisor-9-2 (9.2.88-1) ...\n",
            "Selecting previously unselected package cuda-nvtx-9-2.\n",
            "Preparing to unpack .../15-cuda-nvtx-9-2_9.2.88-1_amd64.deb ...\n",
            "Unpacking cuda-nvtx-9-2 (9.2.88-1) ...\n",
            "Selecting previously unselected package cuda-command-line-tools-9-2.\n",
            "Preparing to unpack .../16-cuda-command-line-tools-9-2_9.2.88-1_amd64.deb ...\n",
            "Unpacking cuda-command-line-tools-9-2 (9.2.88-1) ...\n",
            "Selecting previously unselected package cuda-nsight-9-2.\n",
            "Preparing to unpack .../17-cuda-nsight-9-2_9.2.88-1_amd64.deb ...\n",
            "Unpacking cuda-nsight-9-2 (9.2.88-1) ...\n",
            "Selecting previously unselected package cuda-nvvp-9-2.\n",
            "Preparing to unpack .../18-cuda-nvvp-9-2_9.2.88-1_amd64.deb ...\n",
            "Unpacking cuda-nvvp-9-2 (9.2.88-1) ...\n",
            "Selecting previously unselected package cuda-nvrtc-9-2.\n",
            "Preparing to unpack .../19-cuda-nvrtc-9-2_9.2.88-1_amd64.deb ...\n",
            "Unpacking cuda-nvrtc-9-2 (9.2.88-1) ...\n",
            "Selecting previously unselected package cuda-nvrtc-dev-9-2.\n",
            "Preparing to unpack .../20-cuda-nvrtc-dev-9-2_9.2.88-1_amd64.deb ...\n",
            "Unpacking cuda-nvrtc-dev-9-2 (9.2.88-1) ...\n",
            "Selecting previously unselected package cuda-cusolver-9-2.\n",
            "Preparing to unpack .../21-cuda-cusolver-9-2_9.2.88-1_amd64.deb ...\n",
            "Unpacking cuda-cusolver-9-2 (9.2.88-1) ...\n",
            "Selecting previously unselected package cuda-cusolver-dev-9-2.\n",
            "Preparing to unpack .../22-cuda-cusolver-dev-9-2_9.2.88-1_amd64.deb ...\n",
            "Unpacking cuda-cusolver-dev-9-2 (9.2.88-1) ...\n",
            "Selecting previously unselected package cuda-cublas-9-2.\n",
            "Preparing to unpack .../23-cuda-cublas-9-2_9.2.88-1_amd64.deb ...\n",
            "Unpacking cuda-cublas-9-2 (9.2.88-1) ...\n",
            "Selecting previously unselected package cuda-cublas-dev-9-2.\n",
            "Preparing to unpack .../24-cuda-cublas-dev-9-2_9.2.88-1_amd64.deb ...\n",
            "Unpacking cuda-cublas-dev-9-2 (9.2.88-1) ...\n",
            "Selecting previously unselected package cuda-cufft-9-2.\n",
            "Preparing to unpack .../25-cuda-cufft-9-2_9.2.88-1_amd64.deb ...\n",
            "Unpacking cuda-cufft-9-2 (9.2.88-1) ...\n",
            "Selecting previously unselected package cuda-cufft-dev-9-2.\n",
            "Preparing to unpack .../26-cuda-cufft-dev-9-2_9.2.88-1_amd64.deb ...\n",
            "Unpacking cuda-cufft-dev-9-2 (9.2.88-1) ...\n",
            "Selecting previously unselected package cuda-curand-9-2.\n",
            "Preparing to unpack .../27-cuda-curand-9-2_9.2.88-1_amd64.deb ...\n",
            "Unpacking cuda-curand-9-2 (9.2.88-1) ...\n",
            "Selecting previously unselected package cuda-curand-dev-9-2.\n",
            "Preparing to unpack .../28-cuda-curand-dev-9-2_9.2.88-1_amd64.deb ...\n",
            "Unpacking cuda-curand-dev-9-2 (9.2.88-1) ...\n",
            "Selecting previously unselected package cuda-cusparse-9-2.\n",
            "Preparing to unpack .../29-cuda-cusparse-9-2_9.2.88-1_amd64.deb ...\n",
            "Unpacking cuda-cusparse-9-2 (9.2.88-1) ...\n",
            "Selecting previously unselected package cuda-cusparse-dev-9-2.\n",
            "Preparing to unpack .../30-cuda-cusparse-dev-9-2_9.2.88-1_amd64.deb ...\n",
            "Unpacking cuda-cusparse-dev-9-2 (9.2.88-1) ...\n",
            "Selecting previously unselected package cuda-npp-9-2.\n",
            "Preparing to unpack .../31-cuda-npp-9-2_9.2.88-1_amd64.deb ...\n",
            "Unpacking cuda-npp-9-2 (9.2.88-1) ...\n",
            "Selecting previously unselected package cuda-npp-dev-9-2.\n",
            "Preparing to unpack .../32-cuda-npp-dev-9-2_9.2.88-1_amd64.deb ...\n",
            "Unpacking cuda-npp-dev-9-2 (9.2.88-1) ...\n",
            "Selecting previously unselected package cuda-nvml-dev-9-2.\n",
            "Preparing to unpack .../33-cuda-nvml-dev-9-2_9.2.88-1_amd64.deb ...\n",
            "Unpacking cuda-nvml-dev-9-2 (9.2.88-1) ...\n",
            "Selecting previously unselected package cuda-nvgraph-9-2.\n",
            "Preparing to unpack .../34-cuda-nvgraph-9-2_9.2.88-1_amd64.deb ...\n",
            "Unpacking cuda-nvgraph-9-2 (9.2.88-1) ...\n",
            "Selecting previously unselected package cuda-nvgraph-dev-9-2.\n",
            "Preparing to unpack .../35-cuda-nvgraph-dev-9-2_9.2.88-1_amd64.deb ...\n",
            "Unpacking cuda-nvgraph-dev-9-2 (9.2.88-1) ...\n",
            "Selecting previously unselected package cuda-visual-tools-9-2.\n",
            "Preparing to unpack .../36-cuda-visual-tools-9-2_9.2.88-1_amd64.deb ...\n",
            "Unpacking cuda-visual-tools-9-2 (9.2.88-1) ...\n",
            "Selecting previously unselected package cuda-tools-9-2.\n",
            "Preparing to unpack .../37-cuda-tools-9-2_9.2.88-1_amd64.deb ...\n",
            "Unpacking cuda-tools-9-2 (9.2.88-1) ...\n",
            "Selecting previously unselected package cuda-samples-9-2.\n",
            "Preparing to unpack .../38-cuda-samples-9-2_9.2.88-1_amd64.deb ...\n",
            "Unpacking cuda-samples-9-2 (9.2.88-1) ...\n",
            "Selecting previously unselected package cuda-documentation-9-2.\n",
            "Preparing to unpack .../39-cuda-documentation-9-2_9.2.88-1_amd64.deb ...\n",
            "Unpacking cuda-documentation-9-2 (9.2.88-1) ...\n",
            "Selecting previously unselected package cuda-libraries-dev-9-2.\n",
            "Preparing to unpack .../40-cuda-libraries-dev-9-2_9.2.88-1_amd64.deb ...\n",
            "Unpacking cuda-libraries-dev-9-2 (9.2.88-1) ...\n",
            "Selecting previously unselected package cuda-toolkit-9-2.\n",
            "Preparing to unpack .../41-cuda-toolkit-9-2_9.2.88-1_amd64.deb ...\n",
            "Unpacking cuda-toolkit-9-2 (9.2.88-1) ...\n",
            "Selecting previously unselected package cuda-libraries-9-2.\n",
            "Preparing to unpack .../42-cuda-libraries-9-2_9.2.88-1_amd64.deb ...\n",
            "Unpacking cuda-libraries-9-2 (9.2.88-1) ...\n",
            "Selecting previously unselected package cuda-runtime-9-2.\n",
            "Preparing to unpack .../43-cuda-runtime-9-2_9.2.88-1_amd64.deb ...\n",
            "Unpacking cuda-runtime-9-2 (9.2.88-1) ...\n",
            "Selecting previously unselected package cuda-demo-suite-9-2.\n",
            "Preparing to unpack .../44-cuda-demo-suite-9-2_9.2.88-1_amd64.deb ...\n",
            "Unpacking cuda-demo-suite-9-2 (9.2.88-1) ...\n",
            "Selecting previously unselected package cuda-9-2.\n",
            "Preparing to unpack .../45-cuda-9-2_9.2.88-1_amd64.deb ...\n",
            "Unpacking cuda-9-2 (9.2.88-1) ...\n",
            "Setting up cuda-license-9-2 (9.2.88-1) ...\n",
            "*** LICENSE AGREEMENT ***\n",
            "By using this software you agree to fully comply with the terms and \n",
            "conditions of the EULA (End User License Agreement). The EULA is located\n",
            "at /usr/local/cuda-9.2/doc/EULA.txt. The EULA can also be found at\n",
            "http://docs.nvidia.com/cuda/eula/index.html. If you do not agree to the\n",
            "terms and conditions of the EULA, do not use the software.\n",
            "\n",
            "Setting up cuda-nvprune-9-2 (9.2.88-1) ...\n",
            "Setting up cuda-cudart-9-2 (9.2.88-1) ...\n",
            "Setting up cuda-nvprof-9-2 (9.2.88-1) ...\n",
            "Setting up cuda-nvrtc-9-2 (9.2.88-1) ...\n",
            "Setting up cuda-nvtx-9-2 (9.2.88-1) ...\n",
            "Setting up cuda-cusolver-9-2 (9.2.88-1) ...\n",
            "Setting up cuda-nvml-dev-9-2 (9.2.88-1) ...\n",
            "Setting up cuda-cufft-9-2 (9.2.88-1) ...\n",
            "Setting up cuda-npp-9-2 (9.2.88-1) ...\n",
            "Setting up cuda-misc-headers-9-2 (9.2.88-1) ...\n",
            "Setting up cuda-memcheck-9-2 (9.2.88-1) ...\n",
            "Setting up cuda-npp-dev-9-2 (9.2.88-1) ...\n",
            "Setting up cuda-nvdisasm-9-2 (9.2.88-1) ...\n",
            "Setting up cuda-nvvp-9-2 (9.2.88-1) ...\n",
            "Setting up cuda-nvrtc-dev-9-2 (9.2.88-1) ...\n",
            "Setting up cuda-driver-dev-9-2 (9.2.88-1) ...\n",
            "Setting up cuda-curand-9-2 (9.2.88-1) ...\n",
            "Setting up cuda-cusolver-dev-9-2 (9.2.88-1) ...\n",
            "Setting up cuda-nsight-9-2 (9.2.88-1) ...\n",
            "Setting up cuda-cublas-9-2 (9.2.88-1) ...\n",
            "Setting up cuda-cuobjdump-9-2 (9.2.88-1) ...\n",
            "Setting up cuda-cusparse-9-2 (9.2.88-1) ...\n",
            "Setting up cuda-nvgraph-9-2 (9.2.88-1) ...\n",
            "Setting up cuda-gpu-library-advisor-9-2 (9.2.88-1) ...\n",
            "Setting up cuda-gdb-9-2 (9.2.88-1) ...\n",
            "Setting up cuda-cudart-dev-9-2 (9.2.88-1) ...\n",
            "Setting up cuda-cufft-dev-9-2 (9.2.88-1) ...\n",
            "Setting up cuda-libraries-9-2 (9.2.88-1) ...\n",
            "Setting up cuda-cusparse-dev-9-2 (9.2.88-1) ...\n",
            "Setting up cuda-runtime-9-2 (9.2.88-1) ...\n",
            "Setting up cuda-nvcc-9-2 (9.2.88-1) ...\n",
            "Setting up cuda-cupti-9-2 (9.2.88-1) ...\n",
            "Setting up cuda-cublas-dev-9-2 (9.2.88-1) ...\n",
            "Setting up cuda-nvgraph-dev-9-2 (9.2.88-1) ...\n",
            "Setting up cuda-command-line-tools-9-2 (9.2.88-1) ...\n",
            "Setting up cuda-curand-dev-9-2 (9.2.88-1) ...\n",
            "Setting up cuda-demo-suite-9-2 (9.2.88-1) ...\n",
            "Setting up cuda-visual-tools-9-2 (9.2.88-1) ...\n",
            "Setting up cuda-compiler-9-2 (9.2.88-1) ...\n",
            "Setting up cuda-libraries-dev-9-2 (9.2.88-1) ...\n",
            "Setting up cuda-samples-9-2 (9.2.88-1) ...\n",
            "Setting up cuda-documentation-9-2 (9.2.88-1) ...\n",
            "Setting up cuda-tools-9-2 (9.2.88-1) ...\n",
            "Setting up cuda-toolkit-9-2 (9.2.88-1) ...\n",
            "Setting up cuda-9-2 (9.2.88-1) ...\n",
            "Processing triggers for libc-bin (2.27-3ubuntu1.2) ...\n",
            "/sbin/ldconfig.real: /usr/local/lib/python3.7/dist-packages/ideep4py/lib/libmkldnn.so.0 is not a symbolic link\n",
            "\n"
          ],
          "name": "stdout"
        }
      ]
    },
    {
      "cell_type": "code",
      "metadata": {
        "colab": {
          "base_uri": "https://localhost:8080/"
        },
        "id": "C6d2zLmYbYfT",
        "outputId": "eb20d722-5d7b-42f9-c45c-0d3dd7d1448d"
      },
      "source": [
        "# Check NVIDIA version\n",
        "!nvcc --version"
      ],
      "execution_count": 3,
      "outputs": [
        {
          "output_type": "stream",
          "text": [
            "nvcc: NVIDIA (R) Cuda compiler driver\n",
            "Copyright (c) 2005-2018 NVIDIA Corporation\n",
            "Built on Wed_Apr_11_23:16:29_CDT_2018\n",
            "Cuda compilation tools, release 9.2, V9.2.88\n"
          ],
          "name": "stdout"
        }
      ]
    },
    {
      "cell_type": "markdown",
      "metadata": {
        "id": "8Ps7tb-N1V-X"
      },
      "source": [
        "Install the spacy library and spacy transformer pipeline"
      ]
    },
    {
      "cell_type": "code",
      "metadata": {
        "colab": {
          "base_uri": "https://localhost:8080/"
        },
        "id": "XhjKfJBLbb4g",
        "outputId": "cc2d7f2b-cf96-4c4d-8b9a-febbd0cd80d3"
      },
      "source": [
        "!pip install -U spacy\n",
        "!python -m spacy download en_core_web_trf"
      ],
      "execution_count": 4,
      "outputs": [
        {
          "output_type": "stream",
          "text": [
            "Requirement already satisfied: spacy in /usr/local/lib/python3.7/dist-packages (2.2.4)\n",
            "Collecting spacy\n",
            "  Downloading spacy-3.1.1-cp37-cp37m-manylinux_2_17_x86_64.manylinux2014_x86_64.whl (6.4 MB)\n",
            "\u001b[K     |████████████████████████████████| 6.4 MB 5.8 MB/s \n",
            "\u001b[?25hRequirement already satisfied: preshed<3.1.0,>=3.0.2 in /usr/local/lib/python3.7/dist-packages (from spacy) (3.0.5)\n",
            "Requirement already satisfied: jinja2 in /usr/local/lib/python3.7/dist-packages (from spacy) (2.11.3)\n",
            "Requirement already satisfied: typing-extensions<4.0.0.0,>=3.7.4 in /usr/local/lib/python3.7/dist-packages (from spacy) (3.7.4.3)\n",
            "Collecting spacy-legacy<3.1.0,>=3.0.7\n",
            "  Downloading spacy_legacy-3.0.8-py2.py3-none-any.whl (14 kB)\n",
            "Collecting pathy>=0.3.5\n",
            "  Downloading pathy-0.6.0-py3-none-any.whl (42 kB)\n",
            "\u001b[K     |████████████████████████████████| 42 kB 1.6 MB/s \n",
            "\u001b[?25hRequirement already satisfied: blis<0.8.0,>=0.4.0 in /usr/local/lib/python3.7/dist-packages (from spacy) (0.4.1)\n",
            "Requirement already satisfied: tqdm<5.0.0,>=4.38.0 in /usr/local/lib/python3.7/dist-packages (from spacy) (4.41.1)\n",
            "Requirement already satisfied: wasabi<1.1.0,>=0.8.1 in /usr/local/lib/python3.7/dist-packages (from spacy) (0.8.2)\n",
            "Requirement already satisfied: requests<3.0.0,>=2.13.0 in /usr/local/lib/python3.7/dist-packages (from spacy) (2.23.0)\n",
            "Requirement already satisfied: setuptools in /usr/local/lib/python3.7/dist-packages (from spacy) (57.2.0)\n",
            "Requirement already satisfied: murmurhash<1.1.0,>=0.28.0 in /usr/local/lib/python3.7/dist-packages (from spacy) (1.0.5)\n",
            "Requirement already satisfied: cymem<2.1.0,>=2.0.2 in /usr/local/lib/python3.7/dist-packages (from spacy) (2.0.5)\n",
            "Collecting srsly<3.0.0,>=2.4.1\n",
            "  Downloading srsly-2.4.1-cp37-cp37m-manylinux2014_x86_64.whl (456 kB)\n",
            "\u001b[K     |████████████████████████████████| 456 kB 62.0 MB/s \n",
            "\u001b[?25hCollecting thinc<8.1.0,>=8.0.8\n",
            "  Downloading thinc-8.0.8-cp37-cp37m-manylinux_2_17_x86_64.manylinux2014_x86_64.whl (621 kB)\n",
            "\u001b[K     |████████████████████████████████| 621 kB 63.2 MB/s \n",
            "\u001b[?25hCollecting pydantic!=1.8,!=1.8.1,<1.9.0,>=1.7.4\n",
            "  Downloading pydantic-1.8.2-cp37-cp37m-manylinux2014_x86_64.whl (10.1 MB)\n",
            "\u001b[K     |████████████████████████████████| 10.1 MB 58.3 MB/s \n",
            "\u001b[?25hCollecting typer<0.4.0,>=0.3.0\n",
            "  Downloading typer-0.3.2-py3-none-any.whl (21 kB)\n",
            "Requirement already satisfied: numpy>=1.15.0 in /usr/local/lib/python3.7/dist-packages (from spacy) (1.19.5)\n",
            "Requirement already satisfied: packaging>=20.0 in /usr/local/lib/python3.7/dist-packages (from spacy) (21.0)\n",
            "Collecting catalogue<2.1.0,>=2.0.4\n",
            "  Downloading catalogue-2.0.4-py3-none-any.whl (16 kB)\n",
            "Requirement already satisfied: zipp>=0.5 in /usr/local/lib/python3.7/dist-packages (from catalogue<2.1.0,>=2.0.4->spacy) (3.5.0)\n",
            "Requirement already satisfied: pyparsing>=2.0.2 in /usr/local/lib/python3.7/dist-packages (from packaging>=20.0->spacy) (2.4.7)\n",
            "Requirement already satisfied: smart-open<6.0.0,>=5.0.0 in /usr/local/lib/python3.7/dist-packages (from pathy>=0.3.5->spacy) (5.1.0)\n",
            "Requirement already satisfied: urllib3!=1.25.0,!=1.25.1,<1.26,>=1.21.1 in /usr/local/lib/python3.7/dist-packages (from requests<3.0.0,>=2.13.0->spacy) (1.24.3)\n",
            "Requirement already satisfied: idna<3,>=2.5 in /usr/local/lib/python3.7/dist-packages (from requests<3.0.0,>=2.13.0->spacy) (2.10)\n",
            "Requirement already satisfied: chardet<4,>=3.0.2 in /usr/local/lib/python3.7/dist-packages (from requests<3.0.0,>=2.13.0->spacy) (3.0.4)\n",
            "Requirement already satisfied: certifi>=2017.4.17 in /usr/local/lib/python3.7/dist-packages (from requests<3.0.0,>=2.13.0->spacy) (2021.5.30)\n",
            "Requirement already satisfied: click<7.2.0,>=7.1.1 in /usr/local/lib/python3.7/dist-packages (from typer<0.4.0,>=0.3.0->spacy) (7.1.2)\n",
            "Requirement already satisfied: MarkupSafe>=0.23 in /usr/local/lib/python3.7/dist-packages (from jinja2->spacy) (2.0.1)\n",
            "Installing collected packages: catalogue, typer, srsly, pydantic, thinc, spacy-legacy, pathy, spacy\n",
            "  Attempting uninstall: catalogue\n",
            "    Found existing installation: catalogue 1.0.0\n",
            "    Uninstalling catalogue-1.0.0:\n",
            "      Successfully uninstalled catalogue-1.0.0\n",
            "  Attempting uninstall: srsly\n",
            "    Found existing installation: srsly 1.0.5\n",
            "    Uninstalling srsly-1.0.5:\n",
            "      Successfully uninstalled srsly-1.0.5\n",
            "  Attempting uninstall: thinc\n",
            "    Found existing installation: thinc 7.4.0\n",
            "    Uninstalling thinc-7.4.0:\n",
            "      Successfully uninstalled thinc-7.4.0\n",
            "  Attempting uninstall: spacy\n",
            "    Found existing installation: spacy 2.2.4\n",
            "    Uninstalling spacy-2.2.4:\n",
            "      Successfully uninstalled spacy-2.2.4\n",
            "Successfully installed catalogue-2.0.4 pathy-0.6.0 pydantic-1.8.2 spacy-3.1.1 spacy-legacy-3.0.8 srsly-2.4.1 thinc-8.0.8 typer-0.3.2\n",
            "2021-08-12 19:39:48.070232: I tensorflow/stream_executor/platform/default/dso_loader.cc:53] Successfully opened dynamic library libcudart.so.11.0\n",
            "Collecting en-core-web-trf==3.1.0\n",
            "  Downloading https://github.com/explosion/spacy-models/releases/download/en_core_web_trf-3.1.0/en_core_web_trf-3.1.0-py3-none-any.whl (460.2 MB)\n",
            "\u001b[K     |████████████████████████████████| 460.2 MB 9.6 kB/s \n",
            "\u001b[?25hCollecting spacy-transformers<1.1.0,>=1.0.3\n",
            "  Downloading spacy_transformers-1.0.4-py2.py3-none-any.whl (40 kB)\n",
            "\u001b[K     |████████████████████████████████| 40 kB 3.4 MB/s \n",
            "\u001b[?25hRequirement already satisfied: spacy<3.2.0,>=3.1.0 in /usr/local/lib/python3.7/dist-packages (from en-core-web-trf==3.1.0) (3.1.1)\n",
            "Requirement already satisfied: thinc<8.1.0,>=8.0.8 in /usr/local/lib/python3.7/dist-packages (from spacy<3.2.0,>=3.1.0->en-core-web-trf==3.1.0) (8.0.8)\n",
            "Requirement already satisfied: requests<3.0.0,>=2.13.0 in /usr/local/lib/python3.7/dist-packages (from spacy<3.2.0,>=3.1.0->en-core-web-trf==3.1.0) (2.23.0)\n",
            "Requirement already satisfied: typer<0.4.0,>=0.3.0 in /usr/local/lib/python3.7/dist-packages (from spacy<3.2.0,>=3.1.0->en-core-web-trf==3.1.0) (0.3.2)\n",
            "Requirement already satisfied: spacy-legacy<3.1.0,>=3.0.7 in /usr/local/lib/python3.7/dist-packages (from spacy<3.2.0,>=3.1.0->en-core-web-trf==3.1.0) (3.0.8)\n",
            "Requirement already satisfied: packaging>=20.0 in /usr/local/lib/python3.7/dist-packages (from spacy<3.2.0,>=3.1.0->en-core-web-trf==3.1.0) (21.0)\n",
            "Requirement already satisfied: numpy>=1.15.0 in /usr/local/lib/python3.7/dist-packages (from spacy<3.2.0,>=3.1.0->en-core-web-trf==3.1.0) (1.19.5)\n",
            "Requirement already satisfied: typing-extensions<4.0.0.0,>=3.7.4 in /usr/local/lib/python3.7/dist-packages (from spacy<3.2.0,>=3.1.0->en-core-web-trf==3.1.0) (3.7.4.3)\n",
            "Requirement already satisfied: pydantic!=1.8,!=1.8.1,<1.9.0,>=1.7.4 in /usr/local/lib/python3.7/dist-packages (from spacy<3.2.0,>=3.1.0->en-core-web-trf==3.1.0) (1.8.2)\n",
            "Requirement already satisfied: blis<0.8.0,>=0.4.0 in /usr/local/lib/python3.7/dist-packages (from spacy<3.2.0,>=3.1.0->en-core-web-trf==3.1.0) (0.4.1)\n",
            "Requirement already satisfied: pathy>=0.3.5 in /usr/local/lib/python3.7/dist-packages (from spacy<3.2.0,>=3.1.0->en-core-web-trf==3.1.0) (0.6.0)\n",
            "Requirement already satisfied: catalogue<2.1.0,>=2.0.4 in /usr/local/lib/python3.7/dist-packages (from spacy<3.2.0,>=3.1.0->en-core-web-trf==3.1.0) (2.0.4)\n",
            "Requirement already satisfied: cymem<2.1.0,>=2.0.2 in /usr/local/lib/python3.7/dist-packages (from spacy<3.2.0,>=3.1.0->en-core-web-trf==3.1.0) (2.0.5)\n",
            "Requirement already satisfied: srsly<3.0.0,>=2.4.1 in /usr/local/lib/python3.7/dist-packages (from spacy<3.2.0,>=3.1.0->en-core-web-trf==3.1.0) (2.4.1)\n",
            "Requirement already satisfied: jinja2 in /usr/local/lib/python3.7/dist-packages (from spacy<3.2.0,>=3.1.0->en-core-web-trf==3.1.0) (2.11.3)\n",
            "Requirement already satisfied: murmurhash<1.1.0,>=0.28.0 in /usr/local/lib/python3.7/dist-packages (from spacy<3.2.0,>=3.1.0->en-core-web-trf==3.1.0) (1.0.5)\n",
            "Requirement already satisfied: preshed<3.1.0,>=3.0.2 in /usr/local/lib/python3.7/dist-packages (from spacy<3.2.0,>=3.1.0->en-core-web-trf==3.1.0) (3.0.5)\n",
            "Requirement already satisfied: tqdm<5.0.0,>=4.38.0 in /usr/local/lib/python3.7/dist-packages (from spacy<3.2.0,>=3.1.0->en-core-web-trf==3.1.0) (4.41.1)\n",
            "Requirement already satisfied: setuptools in /usr/local/lib/python3.7/dist-packages (from spacy<3.2.0,>=3.1.0->en-core-web-trf==3.1.0) (57.2.0)\n",
            "Requirement already satisfied: wasabi<1.1.0,>=0.8.1 in /usr/local/lib/python3.7/dist-packages (from spacy<3.2.0,>=3.1.0->en-core-web-trf==3.1.0) (0.8.2)\n",
            "Requirement already satisfied: zipp>=0.5 in /usr/local/lib/python3.7/dist-packages (from catalogue<2.1.0,>=2.0.4->spacy<3.2.0,>=3.1.0->en-core-web-trf==3.1.0) (3.5.0)\n",
            "Requirement already satisfied: pyparsing>=2.0.2 in /usr/local/lib/python3.7/dist-packages (from packaging>=20.0->spacy<3.2.0,>=3.1.0->en-core-web-trf==3.1.0) (2.4.7)\n",
            "Requirement already satisfied: smart-open<6.0.0,>=5.0.0 in /usr/local/lib/python3.7/dist-packages (from pathy>=0.3.5->spacy<3.2.0,>=3.1.0->en-core-web-trf==3.1.0) (5.1.0)\n",
            "Requirement already satisfied: idna<3,>=2.5 in /usr/local/lib/python3.7/dist-packages (from requests<3.0.0,>=2.13.0->spacy<3.2.0,>=3.1.0->en-core-web-trf==3.1.0) (2.10)\n",
            "Requirement already satisfied: urllib3!=1.25.0,!=1.25.1,<1.26,>=1.21.1 in /usr/local/lib/python3.7/dist-packages (from requests<3.0.0,>=2.13.0->spacy<3.2.0,>=3.1.0->en-core-web-trf==3.1.0) (1.24.3)\n",
            "Requirement already satisfied: certifi>=2017.4.17 in /usr/local/lib/python3.7/dist-packages (from requests<3.0.0,>=2.13.0->spacy<3.2.0,>=3.1.0->en-core-web-trf==3.1.0) (2021.5.30)\n",
            "Requirement already satisfied: chardet<4,>=3.0.2 in /usr/local/lib/python3.7/dist-packages (from requests<3.0.0,>=2.13.0->spacy<3.2.0,>=3.1.0->en-core-web-trf==3.1.0) (3.0.4)\n",
            "Collecting transformers<4.10.0,>=3.4.0\n",
            "  Downloading transformers-4.9.2-py3-none-any.whl (2.6 MB)\n",
            "\u001b[K     |████████████████████████████████| 2.6 MB 12.3 MB/s \n",
            "\u001b[?25hRequirement already satisfied: torch>=1.5.0 in /usr/local/lib/python3.7/dist-packages (from spacy-transformers<1.1.0,>=1.0.3->en-core-web-trf==3.1.0) (1.9.0+cu102)\n",
            "Collecting spacy-alignments<1.0.0,>=0.7.2\n",
            "  Downloading spacy_alignments-0.8.3-cp37-cp37m-manylinux2014_x86_64.whl (998 kB)\n",
            "\u001b[K     |████████████████████████████████| 998 kB 66.2 MB/s \n",
            "\u001b[?25hCollecting huggingface-hub==0.0.12\n",
            "  Downloading huggingface_hub-0.0.12-py3-none-any.whl (37 kB)\n",
            "Requirement already satisfied: importlib-metadata in /usr/local/lib/python3.7/dist-packages (from transformers<4.10.0,>=3.4.0->spacy-transformers<1.1.0,>=1.0.3->en-core-web-trf==3.1.0) (4.6.1)\n",
            "Requirement already satisfied: filelock in /usr/local/lib/python3.7/dist-packages (from transformers<4.10.0,>=3.4.0->spacy-transformers<1.1.0,>=1.0.3->en-core-web-trf==3.1.0) (3.0.12)\n",
            "Collecting tokenizers<0.11,>=0.10.1\n",
            "  Downloading tokenizers-0.10.3-cp37-cp37m-manylinux_2_5_x86_64.manylinux1_x86_64.manylinux_2_12_x86_64.manylinux2010_x86_64.whl (3.3 MB)\n",
            "\u001b[K     |████████████████████████████████| 3.3 MB 46.8 MB/s \n",
            "\u001b[?25hRequirement already satisfied: regex!=2019.12.17 in /usr/local/lib/python3.7/dist-packages (from transformers<4.10.0,>=3.4.0->spacy-transformers<1.1.0,>=1.0.3->en-core-web-trf==3.1.0) (2019.12.20)\n",
            "Collecting pyyaml>=5.1\n",
            "  Downloading PyYAML-5.4.1-cp37-cp37m-manylinux1_x86_64.whl (636 kB)\n",
            "\u001b[K     |████████████████████████████████| 636 kB 68.2 MB/s \n",
            "\u001b[?25hCollecting sacremoses\n",
            "  Downloading sacremoses-0.0.45-py3-none-any.whl (895 kB)\n",
            "\u001b[K     |████████████████████████████████| 895 kB 62.5 MB/s \n",
            "\u001b[?25hRequirement already satisfied: click<7.2.0,>=7.1.1 in /usr/local/lib/python3.7/dist-packages (from typer<0.4.0,>=0.3.0->spacy<3.2.0,>=3.1.0->en-core-web-trf==3.1.0) (7.1.2)\n",
            "Requirement already satisfied: MarkupSafe>=0.23 in /usr/local/lib/python3.7/dist-packages (from jinja2->spacy<3.2.0,>=3.1.0->en-core-web-trf==3.1.0) (2.0.1)\n",
            "Requirement already satisfied: six in /usr/local/lib/python3.7/dist-packages (from sacremoses->transformers<4.10.0,>=3.4.0->spacy-transformers<1.1.0,>=1.0.3->en-core-web-trf==3.1.0) (1.15.0)\n",
            "Requirement already satisfied: joblib in /usr/local/lib/python3.7/dist-packages (from sacremoses->transformers<4.10.0,>=3.4.0->spacy-transformers<1.1.0,>=1.0.3->en-core-web-trf==3.1.0) (1.0.1)\n",
            "Installing collected packages: tokenizers, sacremoses, pyyaml, huggingface-hub, transformers, spacy-alignments, spacy-transformers, en-core-web-trf\n",
            "  Attempting uninstall: pyyaml\n",
            "    Found existing installation: PyYAML 3.13\n",
            "    Uninstalling PyYAML-3.13:\n",
            "      Successfully uninstalled PyYAML-3.13\n",
            "Successfully installed en-core-web-trf-3.1.0 huggingface-hub-0.0.12 pyyaml-5.4.1 sacremoses-0.0.45 spacy-alignments-0.8.3 spacy-transformers-1.0.4 tokenizers-0.10.3 transformers-4.9.2\n",
            "\u001b[38;5;2m✔ Download and installation successful\u001b[0m\n",
            "You can now load the package via spacy.load('en_core_web_trf')\n"
          ],
          "name": "stdout"
        }
      ]
    },
    {
      "cell_type": "markdown",
      "metadata": {
        "id": "aaG8bR8J1gZe"
      },
      "source": [
        "Install PyTorch library"
      ]
    },
    {
      "cell_type": "code",
      "metadata": {
        "colab": {
          "base_uri": "https://localhost:8080/"
        },
        "id": "CGRZusiMbokb",
        "outputId": "678015b9-8c40-4fe2-b33c-337dd9956e9c"
      },
      "source": [
        "pip install torch==1.7.1+cu92 torchvision==0.8.2+cu92 torchaudio==0.7.2 -f https://download.pytorch.org/whl/torch_stable.html"
      ],
      "execution_count": 5,
      "outputs": [
        {
          "output_type": "stream",
          "text": [
            "Looking in links: https://download.pytorch.org/whl/torch_stable.html\n",
            "Collecting torch==1.7.1+cu92\n",
            "  Downloading https://download.pytorch.org/whl/cu92/torch-1.7.1%2Bcu92-cp37-cp37m-linux_x86_64.whl (577.3 MB)\n",
            "\u001b[K     |████████████████████████████████| 577.3 MB 2.7 kB/s \n",
            "\u001b[?25hCollecting torchvision==0.8.2+cu92\n",
            "  Downloading https://download.pytorch.org/whl/cu92/torchvision-0.8.2%2Bcu92-cp37-cp37m-linux_x86_64.whl (12.5 MB)\n",
            "\u001b[K     |████████████████████████████████| 12.5 MB 207 kB/s \n",
            "\u001b[?25hCollecting torchaudio==0.7.2\n",
            "  Downloading torchaudio-0.7.2-cp37-cp37m-manylinux1_x86_64.whl (7.6 MB)\n",
            "\u001b[K     |████████████████████████████████| 7.6 MB 7.3 MB/s \n",
            "\u001b[?25hRequirement already satisfied: numpy in /usr/local/lib/python3.7/dist-packages (from torch==1.7.1+cu92) (1.19.5)\n",
            "Requirement already satisfied: typing-extensions in /usr/local/lib/python3.7/dist-packages (from torch==1.7.1+cu92) (3.7.4.3)\n",
            "Requirement already satisfied: pillow>=4.1.1 in /usr/local/lib/python3.7/dist-packages (from torchvision==0.8.2+cu92) (7.1.2)\n",
            "Installing collected packages: torch, torchvision, torchaudio\n",
            "  Attempting uninstall: torch\n",
            "    Found existing installation: torch 1.9.0+cu102\n",
            "    Uninstalling torch-1.9.0+cu102:\n",
            "      Successfully uninstalled torch-1.9.0+cu102\n",
            "  Attempting uninstall: torchvision\n",
            "    Found existing installation: torchvision 0.10.0+cu102\n",
            "    Uninstalling torchvision-0.10.0+cu102:\n",
            "      Successfully uninstalled torchvision-0.10.0+cu102\n",
            "\u001b[31mERROR: pip's dependency resolver does not currently take into account all the packages that are installed. This behaviour is the source of the following dependency conflicts.\n",
            "torchtext 0.10.0 requires torch==1.9.0, but you have torch 1.7.1+cu92 which is incompatible.\u001b[0m\n",
            "Successfully installed torch-1.7.1+cu92 torchaudio-0.7.2 torchvision-0.8.2+cu92\n"
          ],
          "name": "stdout"
        }
      ]
    },
    {
      "cell_type": "markdown",
      "metadata": {
        "id": "2eklOANq1EU-"
      },
      "source": [
        "## Training of the model"
      ]
    },
    {
      "cell_type": "markdown",
      "metadata": {
        "id": "HTSBArk32qFj"
      },
      "source": [
        "`base_config.cfg`: contains all the model training parameters. I created the file via this site: https://spacy.io/usage/training#quickstart\n",
        "\n",
        "The `init fill-config` command fills in the remaining defaults and stores it in a file called `config_spacy.cfg`"
      ]
    },
    {
      "cell_type": "code",
      "metadata": {
        "colab": {
          "base_uri": "https://localhost:8080/"
        },
        "id": "Je38bvULbo54",
        "outputId": "6c71a539-6a1d-4e64-ac68-35ee7e9526e7"
      },
      "source": [
        "!python -m spacy init fill-config ./base_config.cfg ./config_spacy.cfg"
      ],
      "execution_count": 9,
      "outputs": [
        {
          "output_type": "stream",
          "text": [
            "2021-08-12 20:13:59.344299: I tensorflow/stream_executor/platform/default/dso_loader.cc:53] Successfully opened dynamic library libcudart.so.11.0\n",
            "\u001b[38;5;2m✔ Auto-filled config with all values\u001b[0m\n",
            "\u001b[38;5;2m✔ Saved config\u001b[0m\n",
            "config_spacy.cfg\n",
            "You can now add your data and train your pipeline:\n",
            "python -m spacy train config_spacy.cfg --paths.train ./train.spacy --paths.dev ./dev.spacy\n"
          ],
          "name": "stdout"
        }
      ]
    },
    {
      "cell_type": "code",
      "metadata": {
        "colab": {
          "base_uri": "https://localhost:8080/"
        },
        "id": "OA4wX8Vz70qW",
        "outputId": "b63ba82a-fe49-4350-ca35-9e3daae8ecba"
      },
      "source": [
        "!python -m spacy debug data ./config_spacy.cfg"
      ],
      "execution_count": 10,
      "outputs": [
        {
          "output_type": "stream",
          "text": [
            "2021-08-12 20:14:06.789649: I tensorflow/stream_executor/platform/default/dso_loader.cc:53] Successfully opened dynamic library libcudart.so.11.0\n",
            "\u001b[1m\n",
            "============================ Data file validation ============================\u001b[0m\n",
            "\u001b[38;5;2m✔ Corpus is loadable\u001b[0m\n",
            "\u001b[38;5;2m✔ Pipeline can be initialized with data\u001b[0m\n",
            "\u001b[1m\n",
            "=============================== Training stats ===============================\u001b[0m\n",
            "Language: en\n",
            "Training pipeline: tok2vec, ner\n",
            "620 training docs\n",
            "156 evaluation docs\n",
            "\u001b[38;5;2m✔ No overlap between training and evaluation data\u001b[0m\n",
            "\u001b[38;5;3m⚠ Low number of examples to train a new pipeline (620)\u001b[0m\n",
            "\u001b[1m\n",
            "============================== Vocab & Vectors ==============================\u001b[0m\n",
            "\u001b[38;5;4mℹ 39315 total word(s) in the data (4434 unique)\u001b[0m\n",
            "\u001b[38;5;4mℹ No word vectors present in the package\u001b[0m\n",
            "\u001b[1m\n",
            "========================== Named Entity Recognition ==========================\u001b[0m\n",
            "\u001b[38;5;4mℹ 1 label(s)\u001b[0m\n",
            "0 missing value(s) (tokens with '-' label)\n",
            "\u001b[38;5;3m⚠ Low number of examples for label 'BOOK_TITLE' (46)\u001b[0m\n",
            "\u001b[2K\u001b[38;5;2m✔ Examples without occurrences available for all labels\u001b[0m\n",
            "\u001b[38;5;2m✔ No entities consisting of or starting/ending with whitespace\u001b[0m\n",
            "\u001b[38;5;2m✔ No entities consisting of or starting/ending with punctuation\u001b[0m\n",
            "\u001b[1m\n",
            "================================== Summary ==================================\u001b[0m\n",
            "\u001b[38;5;2m✔ 6 checks passed\u001b[0m\n",
            "\u001b[38;5;3m⚠ 2 warnings\u001b[0m\n"
          ],
          "name": "stdout"
        }
      ]
    },
    {
      "cell_type": "markdown",
      "metadata": {
        "id": "6iRLzFbS5XnN"
      },
      "source": [
        "Training step of model:"
      ]
    },
    {
      "cell_type": "code",
      "metadata": {
        "colab": {
          "base_uri": "https://localhost:8080/"
        },
        "id": "HI_mV8OjjV3C",
        "outputId": "3d6e3e24-5785-4d68-bfce-6fae9c1bd702"
      },
      "source": [
        "!python -m spacy train -g 0 ./config_spacy.cfg --output ./"
      ],
      "execution_count": 11,
      "outputs": [
        {
          "output_type": "stream",
          "text": [
            "2021-08-12 20:14:37.394615: I tensorflow/stream_executor/platform/default/dso_loader.cc:53] Successfully opened dynamic library libcudart.so.11.0\n",
            "\u001b[38;5;4mℹ Using GPU: 0\u001b[0m\n",
            "\u001b[1m\n",
            "=========================== Initializing pipeline ===========================\u001b[0m\n",
            "[2021-08-12 20:14:40,014] [INFO] Set up nlp object from config\n",
            "[2021-08-12 20:14:40,024] [INFO] Pipeline: ['tok2vec', 'ner']\n",
            "[2021-08-12 20:14:40,028] [INFO] Created vocabulary\n",
            "[2021-08-12 20:14:40,029] [INFO] Finished initializing nlp object\n",
            "[2021-08-12 20:14:51,088] [INFO] Initialized pipeline components: ['tok2vec', 'ner']\n",
            "\u001b[38;5;2m✔ Initialized pipeline\u001b[0m\n",
            "\u001b[1m\n",
            "============================= Training pipeline =============================\u001b[0m\n",
            "\u001b[38;5;4mℹ Pipeline: ['tok2vec', 'ner']\u001b[0m\n",
            "\u001b[38;5;4mℹ Initial learn rate: 0.001\u001b[0m\n",
            "E    #       LOSS TOK2VEC  LOSS NER  ENTS_F  ENTS_P  ENTS_R  SCORE \n",
            "---  ------  ------------  --------  ------  ------  ------  ------\n",
            "  0       0          0.00     12.33    0.00    0.00    0.00    0.00\n",
            "  0     200          9.25    604.87    0.00    0.00    0.00    0.00\n",
            "  0     400         28.81     57.82    0.00    0.00    0.00    0.00\n",
            "  1     600         37.62     53.91    0.00    0.00    0.00    0.00\n",
            "  2     800         61.22     71.33    0.00    0.00    0.00    0.00\n",
            "  3    1000         92.19     92.97    9.09   33.33    5.26    0.09\n",
            "  4    1200        242.75     99.59   20.00   27.27   15.79    0.20\n",
            "  6    1400        130.90     60.74   28.57   44.44   21.05    0.29\n",
            "  8    1600         63.22     33.52   40.00   54.55   31.58    0.40\n",
            " 11    1800         19.44     19.29   25.00   60.00   15.79    0.25\n",
            " 14    2000         63.05      6.70   34.48   50.00   26.32    0.34\n",
            " 18    2200          0.00      0.00   35.71   55.56   26.32    0.36\n",
            " 23    2400          0.00      0.00   37.04   62.50   26.32    0.37\n",
            " 28    2600          0.00      0.00   35.71   55.56   26.32    0.36\n",
            " 33    2800          0.00      0.00   35.71   55.56   26.32    0.36\n",
            " 37    3000          0.00      0.00   35.71   55.56   26.32    0.36\n",
            " 42    3200          0.00      0.00   35.71   55.56   26.32    0.36\n",
            "\u001b[38;5;2m✔ Saved pipeline to output directory\u001b[0m\n",
            "model-last\n"
          ],
          "name": "stdout"
        }
      ]
    },
    {
      "cell_type": "markdown",
      "metadata": {
        "id": "hM0vNRKGJ-MQ"
      },
      "source": [
        "-> Those results are a lot lower than previous runs that I did"
      ]
    },
    {
      "cell_type": "code",
      "metadata": {
        "colab": {
          "base_uri": "https://localhost:8080/"
        },
        "id": "6Ativ5SGjr4c",
        "outputId": "1912b785-315d-49ea-fa36-4bae2d129b75"
      },
      "source": [
        "# zip the best-model after training\n",
        "!zip -r /model-best.zip ./model-best"
      ],
      "execution_count": 12,
      "outputs": [
        {
          "output_type": "stream",
          "text": [
            "  adding: model-best/ (stored 0%)\n",
            "  adding: model-best/tok2vec/ (stored 0%)\n",
            "  adding: model-best/tok2vec/model (deflated 8%)\n",
            "  adding: model-best/tok2vec/cfg (stored 0%)\n",
            "  adding: model-best/ner/ (stored 0%)\n",
            "  adding: model-best/ner/model (deflated 7%)\n",
            "  adding: model-best/ner/cfg (deflated 33%)\n",
            "  adding: model-best/ner/moves (deflated 46%)\n",
            "  adding: model-best/tokenizer (deflated 80%)\n",
            "  adding: model-best/config.cfg (deflated 61%)\n",
            "  adding: model-best/meta.json (deflated 56%)\n",
            "  adding: model-best/vocab/ (stored 0%)\n",
            "  adding: model-best/vocab/strings.json (deflated 73%)\n",
            "  adding: model-best/vocab/key2row (stored 0%)\n",
            "  adding: model-best/vocab/vectors (deflated 45%)\n",
            "  adding: model-best/vocab/lookups.bin (stored 0%)\n"
          ],
          "name": "stdout"
        }
      ]
    },
    {
      "cell_type": "code",
      "metadata": {
        "colab": {
          "base_uri": "https://localhost:8080/",
          "height": 17
        },
        "id": "WBRpQImGGvX5",
        "outputId": "e10ee9e6-039b-4d86-b8e4-1ed66ba07c4c"
      },
      "source": [
        "from google.colab import files\n",
        "files.download(\"/model-best.zip\")"
      ],
      "execution_count": 13,
      "outputs": [
        {
          "output_type": "display_data",
          "data": {
            "application/javascript": [
              "\n",
              "    async function download(id, filename, size) {\n",
              "      if (!google.colab.kernel.accessAllowed) {\n",
              "        return;\n",
              "      }\n",
              "      const div = document.createElement('div');\n",
              "      const label = document.createElement('label');\n",
              "      label.textContent = `Downloading \"${filename}\": `;\n",
              "      div.appendChild(label);\n",
              "      const progress = document.createElement('progress');\n",
              "      progress.max = size;\n",
              "      div.appendChild(progress);\n",
              "      document.body.appendChild(div);\n",
              "\n",
              "      const buffers = [];\n",
              "      let downloaded = 0;\n",
              "\n",
              "      const channel = await google.colab.kernel.comms.open(id);\n",
              "      // Send a message to notify the kernel that we're ready.\n",
              "      channel.send({})\n",
              "\n",
              "      for await (const message of channel.messages) {\n",
              "        // Send a message to notify the kernel that we're ready.\n",
              "        channel.send({})\n",
              "        if (message.buffers) {\n",
              "          for (const buffer of message.buffers) {\n",
              "            buffers.push(buffer);\n",
              "            downloaded += buffer.byteLength;\n",
              "            progress.value = downloaded;\n",
              "          }\n",
              "        }\n",
              "      }\n",
              "      const blob = new Blob(buffers, {type: 'application/binary'});\n",
              "      const a = document.createElement('a');\n",
              "      a.href = window.URL.createObjectURL(blob);\n",
              "      a.download = filename;\n",
              "      div.appendChild(a);\n",
              "      a.click();\n",
              "      div.remove();\n",
              "    }\n",
              "  "
            ],
            "text/plain": [
              "<IPython.core.display.Javascript object>"
            ]
          },
          "metadata": {
            "tags": []
          }
        },
        {
          "output_type": "display_data",
          "data": {
            "application/javascript": [
              "download(\"download_18646596-e688-4e24-b309-8500d4289f15\", \"model-best.zip\", 6214972)"
            ],
            "text/plain": [
              "<IPython.core.display.Javascript object>"
            ]
          },
          "metadata": {
            "tags": []
          }
        }
      ]
    },
    {
      "cell_type": "markdown",
      "metadata": {
        "id": "zhdvaFaRH_UV"
      },
      "source": [
        "## Load model and extract book information from one podcast"
      ]
    },
    {
      "cell_type": "code",
      "metadata": {
        "id": "B7UylnkdIErQ"
      },
      "source": [
        "SPACY_MODEL = \"./model-best\"      # path to spaCy model trained on transformer language model\n",
        "DATA_FILE = \"./episode_115.txt\"      # some random Podcast Episode from the Lex Fridman Podcast\n",
        "ENTITY_LABEL = \"BOOK_TITLE\"           # label of entity to count"
      ],
      "execution_count": 14,
      "outputs": []
    },
    {
      "cell_type": "code",
      "metadata": {
        "id": "GNWqp-upIW78"
      },
      "source": [
        "import spacy\n",
        "nlp = spacy.load(SPACY_MODEL)"
      ],
      "execution_count": 15,
      "outputs": []
    },
    {
      "cell_type": "markdown",
      "metadata": {
        "id": "e2CgHWr0In4d"
      },
      "source": [
        "### Preprocess the podcast episode\n",
        "So that the model only runs over sentences that are book title related"
      ]
    },
    {
      "cell_type": "code",
      "metadata": {
        "colab": {
          "base_uri": "https://localhost:8080/"
        },
        "id": "IQxiCMf4Ip0k",
        "outputId": "cc305b41-c0e6-4716-9013-3115e70aca93"
      },
      "source": [
        "# try to preprocess the podcast episode first and only keep sentences with book related words\n",
        "import spacy\n",
        "from spacy.matcher import PhraseMatcher\n",
        "\n",
        "phrase_matcher = PhraseMatcher(nlp.vocab)\n",
        "phrases = ['book', 'books', 'i read', 'everyone should read', 'you should read', 'he wrote a novel']\n",
        "patterns = [nlp(text) for text in phrases]\n",
        "phrase_matcher.add('BOOK_NAME', None, *patterns)\n",
        "\n",
        "text_with_book_context = []\n",
        "\n",
        "with open(DATA_FILE) as f:\n",
        "    sentences_list = [line for line in f]\n",
        "    \n",
        "    for sent_i, sent in enumerate(sentences_list):\n",
        "        for match_id, start, end in phrase_matcher(nlp(sent)):\n",
        "            if nlp.vocab.strings[match_id] in [\"BOOK_NAME\"]:\n",
        "                print(sent)\n",
        "                text_with_book_context.append(sent)\n",
        "                break\n",
        "    print(text_with_book_context)"
      ],
      "execution_count": 16,
      "outputs": [
        {
          "output_type": "stream",
          "text": [
            "It really is the best way to support this podcast. Let me say as a side note that Ernest Becker's book, Denial of Death, had a big impact on my thinking about human cognition, consciousness and the deep ocean currents of our mind that are behind the surface behaviors we observe. Many people have told me that they think about death or don't think about death, fear, death, or don't fear death. But I think not many people think about this topic deeply, rigorously in the way that Nietzsche suggested this topic.\n",
            "\n",
            "It's the best way to support this podcast. This episode is supported by Blankest, my favorite app for Learning New Things Get a Blink is that councillor's legs for seven day free trial and twenty five percent off after Blankest takes the kids from thousands of nonfiction books and condense them down into just 15 minutes that you can read or listen to. I'm a big believer in reading at least an hour a day. As part of that I use Blankest every day. And in general, it's a great way to broaden your view of the ideal landscape out there and find books that you may want to read more deeply with blankest get unlimited access to read or listen to a massive library of condensed nonfiction books.\n",
            "\n",
            "Is that death you've in the book worm at the core, that death is at the core of our consciousness, of everything, of how we see the world, of what drives us.\n",
            "\n",
            "Another woman, Ellen Dissanayake, wrote a book called Homo Aesthetics and following Aristotle and his poetic, she's like, well, we're not only rational animals, we're also aesthetic creatures that appreciate beauty.\n",
            "\n",
            "There's another take on humans. I think they call us homo narratives. We're all we're storytelling creatures. And I think all of those designations of what it means to be human are quite useful, heuristically, and certainly worthy of our collective cogitation. But what what garnered my attention when I was a young punk was just a single line in an essay by a Scottish guy who was Alexander Smith. And in a book called Dream Pailthorpe, I think it's written in the eighteen sixties.\n",
            "\n",
            "And that was good work. And I found it interesting. But in my first week as a professor at Skidmore, I just walking up and down the shelves of the library, saw some books by a guy I had never heard of, Ernest Becker, a cultural anthropologist, recently deceased.\n",
            "\n",
            "He died in 1974 after weeks before actually he was posthumously awarded the Pulitzer Prize in nonfiction for his book The Denial of Death.\n",
            "\n",
            "And that was his last book. It's actually his next to last book. I don't know how you pulled this off, but he had one more after he died called Escape from Evil. And evidently it was supposed to originally the denial of death was supposed to be this giant thousand page book that was both. And they split it up. And the what became escape from evil. His wife, Marie Becker, finished.\n",
            "\n",
            "So I'm in my mid 20s. I got the inspectors book in my hand. And the next thing I know I'm remembering when I'm eight years old, the day that my grandmother died and, you know, the day before my mom said, oh, say goodbye to grandma. She's not well. And look, I so I was like, OK, Grandma. And I knew she wasn't well, but I didn't really appreciate the magnitude of her illness.\n",
            "\n",
            "And at eight years old, that was my first explicit existential crisis. I remember it being, you know, one of these blood curdling realizations that I tried my best to ignore for the most of the time. I was subsequently growing up. But fast forward back to Skidmore College, mid 20s, you know, reading Becker's book in the nineteen eighties, thinking to myself, wow, one of the reasons why I'm finding this so compelling is that it squares with my own personal experience and then to make a short story long and I'll shut up.\n",
            "\n",
            "But what what grabbed me about Bucker and this is in part because I read a lot of his other books. There's another book, The Birth and Death of Meaning, which is framed in from an evolutionary perspective. And then the denial of death is really more framed from an existential psychodynamic vantage point.\n",
            "\n",
            "And my thought again early on was I didn't see any intrinsic antifascists between these viewpoints. So I just found them dialectically compatible and very. Powerful when combined, so one question I would ask is about a science being speculative, you know, we understand so little about the human mind. You said you picked up this book and, you know, it felt like he was onto something. That's the same thing I felt when I picked up Becker's book, probably also in my early 20s.\n",
            "\n",
            "I saw him three or four years ago. We spoke on I was an awesome day. We in Canada at the Ontario Shakespeare Festival, where we were asked to be on a Canadian broadcast system program. I think we were talking about Macbeth from a psychodynamic perspective, and I hadn't seen him and a ton of years and we spent two days together, had a great time. You know, we had just written our book, The Worm at the Core. And he's like, you know, you're you're missing a big opportunity.\n",
            "\n",
            "And so I appreciated that. He's a great researcher. He's a good clinician. The other thing that we will agree to disagree about rather vociferously is ultimately political slash economics. So I remember being at dinner with him, telling him that the next book that I wanted to write was going to be called Why Left and Right are both beside the Point. And my argument was going to be and it is going to be that both liberal and political, not liberal and conservative political philosophy, are each intellectually and morally bankrupt because they're both framed in terms of assumptions about human nature that are demonstrably false.\n",
            "\n",
            "And the fact is, is I'm sympathetic with Jordan's dismissal of the folks and the talking heads these days who spew Marxist words. To me, it's like fashionable nonsense. Do you know that book that the physicist wrote mocking You're Too Young? So in the 20 or so years, we're all pretty young?\n",
            "\n",
            "It's messy. And this gets back to my rant about the book that I want to try. If I don't stroke out, why left and right are both beside the point. Yeah. You know, the people or the conservatives are right when they condemn liberals for being simple minded by assuming that a modification of external conditions will yield changes in human nature. You know you know, again, that's where Marx and Skinner are odd bedfellows. You know, here they are just saying, oh, let's change the surroundings and things will inevitably get better.\n",
            "\n",
            "And my conservative friends like you need to read his books because he is a big fan of the free market. And this is my other gripe with folks who support just unbridled markets. Adam Smith understood that there was a role for government for two reasons. One is, is that just like lock people are not going to behave with integrity. And he understood that one role of government is to maintain a proverbial, you know, even playing field. And then the other thing Smith said was that there's some things that can't be done well for a profit.\n",
            "\n",
            "So I'm with Jared Diamond, you know, in the book Collapse, where he points out studying the collapse of major civilizations, that it often happens right after things appear to never have been better. Hmm.\n",
            "\n",
            "So that's brilliant. And this is what John Gray, the philosopher in the 1990s, he predicted what's happening today. He wrote a book about globalism.\n",
            "\n",
            "And actually Hannah Arendt in the 1950s said the same thing in her book about totalitarianism when she said that, you know, that economics has reached the point where most money is made not by actually making stuff. You know, you use money to make money.\n",
            "\n",
            "Hitler was elected and he was elected when Germans were in an extraordinary state of existential distress. And he said, I'm going to make Germany great again right now. What Becker adds to the equation is his claim that what underlies our affection for charismatic populist leaders, good and bad, is death anxiety. All right. Now here's where we come in, where egghead experimental researchers, you know, Becker wrote this book, The Denial of Death, and he couldn't get a job.\n",
            "\n",
            "So what we write in our book and here we're just paying homage to the philosophers and theologians that come before us is to point out the literately since antiquity there has been a consensus that. To lead a full life requires Albert Camus and come to terms with death thereafter. Anything is possible. And so you've got the Stoics and you got the Epicureans, and then you got the Tibetan Book of the Dead. And then you got like the medieval monks that, you know, worked with like a skull on their desk.\n",
            "\n",
            "So. No, no. So my my colleagues and good friends, Jeff Greenberg and Tom Leonski, you know, we met in graduate school in the 1970s. We've been doing this work for 40 years. And we cheerfully admit, even though it doesn't reflect well on us as humans, that I should just speak for myself. But I I feel like there's a real sense in which doing these studies and writing books and lecturing has been my way of avoiding directly confronting my anxieties by turning it into an intellectual exercise.\n",
            "\n",
            "I was like, oh, we're going to write a book and maybe we'll get to go on TV or something. Well, no, that's not the same as to actually think about it in a way that you feel it rather than just think it. Yeah. Did day when you were eight. I said, that's exactly right.\n",
            "\n",
            "But what he submits is that there is some aspects of whatever I am that are independent of my cultural and historical circumstances. In other words, there is a me of sorts. Heidegger would take vigorous issue. So what Heidegger scholars, because I'm not claiming to understand him. This is my classic comic book rendering.\n",
            "\n",
            "No, I'm piecing together these are his exact words that I spent the last two years reading, almost everything that I can find because I want to I'm sick to death. You said it. So I want to second what you say, Lex. So it's not about death. It's the Sherwood Anderson guy. He's a novelist that I like about. He wrote a book called Winesburg, Ohio. And now I'm going to forget what he said on his tombstone.\n",
            "\n",
            "I'm an egghead researcher that was doing experiments about biofeedback. And, you know, then we read these backor books. And I thought they were so interesting that for the first few years we didn't have any studies. I just would travel around and I'd be like, here's what this Becker guy says. I think this is cool.\n",
            "\n",
            "Yeah, I always kind of saw Kierkegaard unfairly, like you said, in a comic book sense of the word faith in a non-traditional sense. I kind of like the idea of leap of faith. Oh, I love that idea.\n",
            "\n",
            "Let me ask you, whenever I bring up Ernest Barker's work, which I do and yours quite a bit, I find it surprising. How that it's not a lot more popular in the sense that, no, I don't mean just your book.\n",
            "\n",
            "I mean, this is an anecdote, of course. But when we were trying to get a publisher for our book, I had we had a meeting with the. A publisher who. Published some Malcolm Gladwell books. Yeah, and she said, I'm very interested in your book, but can you write it without mentioning death?\n",
            "\n",
            "So it's David Sloan. Wilson wrote a book called Darwin's Cathedral, and he said religion has nothing to do with death. It's evolved to make groups viable.\n",
            "\n",
            "Yeah. You know, so that's that's a great question. So there's a woman named Karen Armstrong. She was a nun turned historian. And she's I can't remember the name of the book, but no matter, she we could look that up, but I can look it up and I can also get added.l\n",
            "\n",
            "Wrote a book called In the Name of Identity, Violence and the Need to Belong, and that was his point, is that unless we can overcome this tribal mentality, this will not end well. But but you said earlier, something like that I think is profound and profoundly important.\n",
            "\n",
            "And I think those are all important and interesting questions am of the persuasion. I mean, even not even but Dawkins in The Selfish Gene. It is very thoughtful, actually, in a lot of it's actually more in notes than in the text of the book, but he's just like, it's hard for me to imagine that consciousness doesn't have some sort of important and highly adaptive function. And what Dawkins says is he thought about it in terms of just the way that we could do mental simulations, that one possibly extraordinary product of consciousness is to rather than find out.\n",
            "\n",
            "Often by adverse consequences through trying something would be to run mental simulations. And so one possibility is that consciousness is highly adaptive. Another possibility is Nicholas Humphrey, a British dude who wrote a book about I think it's called Regaining Consciousness.\n",
            "\n",
            "I think that's a fine book. It overlaps considerably with our take on these matters.\n",
            "\n",
            "And the fact that we get to these points drawing on different sources, I think makes me more confident that it's so fascinating, just like reading your book and so on a small tangent.\n",
            "\n",
            "That sapience. Is like one of the most popular books in the world. Like, yeah, and it's reading your book is like all the sounds. Yeah, well, I mean, like, I don't know I don't know what makes a popular book.\n",
            "\n",
            "Yes. Well, if you want me to be petty and stupid, I will tell you that from time to time. We also wonder why our book, you know, like all books, people can take issue with it. But we thought it would be a bigger hit that would be more widely read.\n",
            "\n",
            "Great. Yeah. Like, some of the greatest books ever written are completely unknown during the author's lifetime. And it's like, man, for some reason that it's against the identity thing. I think, man, this sucks.\n",
            "\n",
            "So Van Gogh sold one painting in his life and evidently Thoreau sold like 75 copies of Walden Nature's books did not sell well.\n",
            "\n",
            "And how did Ernest Becker so he he is the his books are published by the Free Press and have sold more than any other books that they have published.\n",
            "\n",
            "If you know when that so that's literally the students that read the denial of death and then escape from evil. They're like, yeah, wow. Every chapter of the book, you have studies. And I'm like, yeah, because for 40 years for Skidmore, students said, oh, that's got to be bullshit. I'm like, well, let's do a study, let's just study in.\n",
            "\n",
            "And that's what these folks have convinced me. Yeah, and engineers aren't, which is I get. Yeah, most most most of the things they talk about, I get kind of people roll their eyes from these books that they're like because again, I saw your name and I'm like women.\n",
            "\n",
            "I mean, again, it sounds I'll find a book title and I'll send it to you. And it's a serious consideration of people who started out with these sex dolls, but it turned into a relationship of enduring significance that the woman who wrote the book is not willing to dismiss as a perversion.\n",
            "\n",
            "The overriding one is about death, and that next is choice and responsibility. The next one is existential isolation. And they're like, that's one of the. Things about consciousness, that and the last one is meaninglessness, but the existential isolation point. As you know, we. Ah, by virtue of consciousness, able to apprehend the bin last year, a Siamese twin, you are fundamentally alone. And because it is claimed it's Eric from in a book called Escape from Freedom, he's like, look, you you're smart enough to know that the most direct way that we typically communicate with our fellow human beings is through language.\n",
            "\n",
            "I took classes at Skidmore. That's how I learned all this stuff. I graduate. I got a Ph.D. unscathed by knowledge. We were great statisticians and methodologies, but we didn't have any. Substance, you know, and I don't mean this cynically, but we were trained and a method in search of a question. So I appreciate having five years at Skidmore basically to read books. And I also appreciate that I look like this 40 years ago and.\n",
            "\n",
            "Tommaso wrote a book about a recent book on charter schools.\n",
            "\n",
            "Yeah, but he I need to read I've only heard him talk about the book, but he argues quite seemingly effectively that that.\n",
            "\n",
            "You know, political predilections and we've gotten along fine for 30 years, and I go out and tell them every day, you know, when you go in today, you tell the people on the force. But I appreciate. What they're doing. I think it's really important to not tribal ize those concerns. I mean, we mentioned so many brilliant books and philosophers, but it would be nice, sort of in a focused way to try to see if we can get some recommendations from you.\n",
            "\n",
            "So what three books, technical or fiction or philosophical, had A and B, the worst question?\n",
            "\n",
            "Sorry, I don't want a small tangent. Is there other books of his. Yes.\n",
            "\n",
            "If I could have this count as one the the birth and death of meaning the denial of death and escape from evil are three books of Ernest Bakker's that I believe to all be profound in a in a little sort of breve dance around topics I've only read now.\n",
            "\n",
            "Death like what? How do those books connect in here.\n",
            "\n",
            "But I mean, you know, I've read all those books. I will tell you the last line of the plague. We learn in times of pestilence that there's more to admire in men than to despise. And I love that. Yeah.\n",
            "\n",
            "Plagues such. I don't know. I find the plague is a brilliant Mayta before before the plague has come to us in twenty twenty. It was just so book about love about.\n",
            "\n",
            "So there's a lot of social issues, a lot of existential issues, but it's basically a fictional account of someone who finds out that they're terminally ill and who reacts originally. As you might expect, anyone becomes more hostile to people who are different, like petty and stupid, denies that anything's happening. But as the book goes on and he comes more to terms with his own mortality, it ends lovingly. And I'm back to your idea of about, you know, love being incredibly potent.\n",
            "\n",
            "And I like Faulkner. Absalom Absalom is a is a fine book.\n",
            "\n",
            "But would you is there something Heidegger connected in a book you recommend or. No. No. So maybe I got to abandon him. I mean, I mean being a time is awesome.\n",
            "\n",
            "And I'm like, this is where he's starting really to really shine for me. So, uh, yeah. Well, that's a beautiful set of books.\n",
            "\n",
            "It opens up, you know, I think it was Kirkegaard who said consciousness gives us the possibility of possibilities and but there's another lunatic, Oswald Spangler, who wrote a book called Decline of the West.\n",
            "\n",
            "Thanks. We'll do it again soon, I hope. Thanks for listening to this conversation with Sheldon Solomon and thank you to our sponsors Blankest Express, Ruben and Kashyap click the links in the description to get a discount. It's the best way to support this podcast to enjoy this thing. Subscribe on YouTube. Review Dardanup podcast. Follow on Spotify, support on Patrón or connect with me on Twitter, Allex Friedman. And now let me leave you with some words from Vladimir Nabokov that Sheldon uses in his book, Warm at the Core.\n",
            "\n",
            "[\"It really is the best way to support this podcast. Let me say as a side note that Ernest Becker's book, Denial of Death, had a big impact on my thinking about human cognition, consciousness and the deep ocean currents of our mind that are behind the surface behaviors we observe. Many people have told me that they think about death or don't think about death, fear, death, or don't fear death. But I think not many people think about this topic deeply, rigorously in the way that Nietzsche suggested this topic.\\n\", \"It's the best way to support this podcast. This episode is supported by Blankest, my favorite app for Learning New Things Get a Blink is that councillor's legs for seven day free trial and twenty five percent off after Blankest takes the kids from thousands of nonfiction books and condense them down into just 15 minutes that you can read or listen to. I'm a big believer in reading at least an hour a day. As part of that I use Blankest every day. And in general, it's a great way to broaden your view of the ideal landscape out there and find books that you may want to read more deeply with blankest get unlimited access to read or listen to a massive library of condensed nonfiction books.\\n\", \"Is that death you've in the book worm at the core, that death is at the core of our consciousness, of everything, of how we see the world, of what drives us.\\n\", \"Another woman, Ellen Dissanayake, wrote a book called Homo Aesthetics and following Aristotle and his poetic, she's like, well, we're not only rational animals, we're also aesthetic creatures that appreciate beauty.\\n\", \"There's another take on humans. I think they call us homo narratives. We're all we're storytelling creatures. And I think all of those designations of what it means to be human are quite useful, heuristically, and certainly worthy of our collective cogitation. But what what garnered my attention when I was a young punk was just a single line in an essay by a Scottish guy who was Alexander Smith. And in a book called Dream Pailthorpe, I think it's written in the eighteen sixties.\\n\", 'And that was good work. And I found it interesting. But in my first week as a professor at Skidmore, I just walking up and down the shelves of the library, saw some books by a guy I had never heard of, Ernest Becker, a cultural anthropologist, recently deceased.\\n', 'He died in 1974 after weeks before actually he was posthumously awarded the Pulitzer Prize in nonfiction for his book The Denial of Death.\\n', \"And that was his last book. It's actually his next to last book. I don't know how you pulled this off, but he had one more after he died called Escape from Evil. And evidently it was supposed to originally the denial of death was supposed to be this giant thousand page book that was both. And they split it up. And the what became escape from evil. His wife, Marie Becker, finished.\\n\", \"So I'm in my mid 20s. I got the inspectors book in my hand. And the next thing I know I'm remembering when I'm eight years old, the day that my grandmother died and, you know, the day before my mom said, oh, say goodbye to grandma. She's not well. And look, I so I was like, OK, Grandma. And I knew she wasn't well, but I didn't really appreciate the magnitude of her illness.\\n\", \"And at eight years old, that was my first explicit existential crisis. I remember it being, you know, one of these blood curdling realizations that I tried my best to ignore for the most of the time. I was subsequently growing up. But fast forward back to Skidmore College, mid 20s, you know, reading Becker's book in the nineteen eighties, thinking to myself, wow, one of the reasons why I'm finding this so compelling is that it squares with my own personal experience and then to make a short story long and I'll shut up.\\n\", \"But what what grabbed me about Bucker and this is in part because I read a lot of his other books. There's another book, The Birth and Death of Meaning, which is framed in from an evolutionary perspective. And then the denial of death is really more framed from an existential psychodynamic vantage point.\\n\", \"And my thought again early on was I didn't see any intrinsic antifascists between these viewpoints. So I just found them dialectically compatible and very. Powerful when combined, so one question I would ask is about a science being speculative, you know, we understand so little about the human mind. You said you picked up this book and, you know, it felt like he was onto something. That's the same thing I felt when I picked up Becker's book, probably also in my early 20s.\\n\", \"I saw him three or four years ago. We spoke on I was an awesome day. We in Canada at the Ontario Shakespeare Festival, where we were asked to be on a Canadian broadcast system program. I think we were talking about Macbeth from a psychodynamic perspective, and I hadn't seen him and a ton of years and we spent two days together, had a great time. You know, we had just written our book, The Worm at the Core. And he's like, you know, you're you're missing a big opportunity.\\n\", \"And so I appreciated that. He's a great researcher. He's a good clinician. The other thing that we will agree to disagree about rather vociferously is ultimately political slash economics. So I remember being at dinner with him, telling him that the next book that I wanted to write was going to be called Why Left and Right are both beside the Point. And my argument was going to be and it is going to be that both liberal and political, not liberal and conservative political philosophy, are each intellectually and morally bankrupt because they're both framed in terms of assumptions about human nature that are demonstrably false.\\n\", \"And the fact is, is I'm sympathetic with Jordan's dismissal of the folks and the talking heads these days who spew Marxist words. To me, it's like fashionable nonsense. Do you know that book that the physicist wrote mocking You're Too Young? So in the 20 or so years, we're all pretty young?\\n\", \"It's messy. And this gets back to my rant about the book that I want to try. If I don't stroke out, why left and right are both beside the point. Yeah. You know, the people or the conservatives are right when they condemn liberals for being simple minded by assuming that a modification of external conditions will yield changes in human nature. You know you know, again, that's where Marx and Skinner are odd bedfellows. You know, here they are just saying, oh, let's change the surroundings and things will inevitably get better.\\n\", \"And my conservative friends like you need to read his books because he is a big fan of the free market. And this is my other gripe with folks who support just unbridled markets. Adam Smith understood that there was a role for government for two reasons. One is, is that just like lock people are not going to behave with integrity. And he understood that one role of government is to maintain a proverbial, you know, even playing field. And then the other thing Smith said was that there's some things that can't be done well for a profit.\\n\", \"So I'm with Jared Diamond, you know, in the book Collapse, where he points out studying the collapse of major civilizations, that it often happens right after things appear to never have been better. Hmm.\\n\", \"So that's brilliant. And this is what John Gray, the philosopher in the 1990s, he predicted what's happening today. He wrote a book about globalism.\\n\", 'And actually Hannah Arendt in the 1950s said the same thing in her book about totalitarianism when she said that, you know, that economics has reached the point where most money is made not by actually making stuff. You know, you use money to make money.\\n', \"Hitler was elected and he was elected when Germans were in an extraordinary state of existential distress. And he said, I'm going to make Germany great again right now. What Becker adds to the equation is his claim that what underlies our affection for charismatic populist leaders, good and bad, is death anxiety. All right. Now here's where we come in, where egghead experimental researchers, you know, Becker wrote this book, The Denial of Death, and he couldn't get a job.\\n\", \"So what we write in our book and here we're just paying homage to the philosophers and theologians that come before us is to point out the literately since antiquity there has been a consensus that. To lead a full life requires Albert Camus and come to terms with death thereafter. Anything is possible. And so you've got the Stoics and you got the Epicureans, and then you got the Tibetan Book of the Dead. And then you got like the medieval monks that, you know, worked with like a skull on their desk.\\n\", \"So. No, no. So my my colleagues and good friends, Jeff Greenberg and Tom Leonski, you know, we met in graduate school in the 1970s. We've been doing this work for 40 years. And we cheerfully admit, even though it doesn't reflect well on us as humans, that I should just speak for myself. But I I feel like there's a real sense in which doing these studies and writing books and lecturing has been my way of avoiding directly confronting my anxieties by turning it into an intellectual exercise.\\n\", \"I was like, oh, we're going to write a book and maybe we'll get to go on TV or something. Well, no, that's not the same as to actually think about it in a way that you feel it rather than just think it. Yeah. Did day when you were eight. I said, that's exactly right.\\n\", \"But what he submits is that there is some aspects of whatever I am that are independent of my cultural and historical circumstances. In other words, there is a me of sorts. Heidegger would take vigorous issue. So what Heidegger scholars, because I'm not claiming to understand him. This is my classic comic book rendering.\\n\", \"No, I'm piecing together these are his exact words that I spent the last two years reading, almost everything that I can find because I want to I'm sick to death. You said it. So I want to second what you say, Lex. So it's not about death. It's the Sherwood Anderson guy. He's a novelist that I like about. He wrote a book called Winesburg, Ohio. And now I'm going to forget what he said on his tombstone.\\n\", \"I'm an egghead researcher that was doing experiments about biofeedback. And, you know, then we read these backor books. And I thought they were so interesting that for the first few years we didn't have any studies. I just would travel around and I'd be like, here's what this Becker guy says. I think this is cool.\\n\", 'Yeah, I always kind of saw Kierkegaard unfairly, like you said, in a comic book sense of the word faith in a non-traditional sense. I kind of like the idea of leap of faith. Oh, I love that idea.\\n', \"Let me ask you, whenever I bring up Ernest Barker's work, which I do and yours quite a bit, I find it surprising. How that it's not a lot more popular in the sense that, no, I don't mean just your book.\\n\", \"I mean, this is an anecdote, of course. But when we were trying to get a publisher for our book, I had we had a meeting with the. A publisher who. Published some Malcolm Gladwell books. Yeah, and she said, I'm very interested in your book, but can you write it without mentioning death?\\n\", \"So it's David Sloan. Wilson wrote a book called Darwin's Cathedral, and he said religion has nothing to do with death. It's evolved to make groups viable.\\n\", \"Yeah. You know, so that's that's a great question. So there's a woman named Karen Armstrong. She was a nun turned historian. And she's I can't remember the name of the book, but no matter, she we could look that up, but I can look it up and I can also get added.l\\n\", 'Wrote a book called In the Name of Identity, Violence and the Need to Belong, and that was his point, is that unless we can overcome this tribal mentality, this will not end well. But but you said earlier, something like that I think is profound and profoundly important.\\n', \"And I think those are all important and interesting questions am of the persuasion. I mean, even not even but Dawkins in The Selfish Gene. It is very thoughtful, actually, in a lot of it's actually more in notes than in the text of the book, but he's just like, it's hard for me to imagine that consciousness doesn't have some sort of important and highly adaptive function. And what Dawkins says is he thought about it in terms of just the way that we could do mental simulations, that one possibly extraordinary product of consciousness is to rather than find out.\\n\", \"Often by adverse consequences through trying something would be to run mental simulations. And so one possibility is that consciousness is highly adaptive. Another possibility is Nicholas Humphrey, a British dude who wrote a book about I think it's called Regaining Consciousness.\\n\", \"I think that's a fine book. It overlaps considerably with our take on these matters.\\n\", \"And the fact that we get to these points drawing on different sources, I think makes me more confident that it's so fascinating, just like reading your book and so on a small tangent.\\n\", \"That sapience. Is like one of the most popular books in the world. Like, yeah, and it's reading your book is like all the sounds. Yeah, well, I mean, like, I don't know I don't know what makes a popular book.\\n\", 'Yes. Well, if you want me to be petty and stupid, I will tell you that from time to time. We also wonder why our book, you know, like all books, people can take issue with it. But we thought it would be a bigger hit that would be more widely read.\\n', \"Great. Yeah. Like, some of the greatest books ever written are completely unknown during the author's lifetime. And it's like, man, for some reason that it's against the identity thing. I think, man, this sucks.\\n\", \"So Van Gogh sold one painting in his life and evidently Thoreau sold like 75 copies of Walden Nature's books did not sell well.\\n\", 'And how did Ernest Becker so he he is the his books are published by the Free Press and have sold more than any other books that they have published.\\n', \"If you know when that so that's literally the students that read the denial of death and then escape from evil. They're like, yeah, wow. Every chapter of the book, you have studies. And I'm like, yeah, because for 40 years for Skidmore, students said, oh, that's got to be bullshit. I'm like, well, let's do a study, let's just study in.\\n\", \"And that's what these folks have convinced me. Yeah, and engineers aren't, which is I get. Yeah, most most most of the things they talk about, I get kind of people roll their eyes from these books that they're like because again, I saw your name and I'm like women.\\n\", \"I mean, again, it sounds I'll find a book title and I'll send it to you. And it's a serious consideration of people who started out with these sex dolls, but it turned into a relationship of enduring significance that the woman who wrote the book is not willing to dismiss as a perversion.\\n\", \"The overriding one is about death, and that next is choice and responsibility. The next one is existential isolation. And they're like, that's one of the. Things about consciousness, that and the last one is meaninglessness, but the existential isolation point. As you know, we. Ah, by virtue of consciousness, able to apprehend the bin last year, a Siamese twin, you are fundamentally alone. And because it is claimed it's Eric from in a book called Escape from Freedom, he's like, look, you you're smart enough to know that the most direct way that we typically communicate with our fellow human beings is through language.\\n\", \"I took classes at Skidmore. That's how I learned all this stuff. I graduate. I got a Ph.D. unscathed by knowledge. We were great statisticians and methodologies, but we didn't have any. Substance, you know, and I don't mean this cynically, but we were trained and a method in search of a question. So I appreciate having five years at Skidmore basically to read books. And I also appreciate that I look like this 40 years ago and.\\n\", 'Tommaso wrote a book about a recent book on charter schools.\\n', \"Yeah, but he I need to read I've only heard him talk about the book, but he argues quite seemingly effectively that that.\\n\", \"You know, political predilections and we've gotten along fine for 30 years, and I go out and tell them every day, you know, when you go in today, you tell the people on the force. But I appreciate. What they're doing. I think it's really important to not tribal ize those concerns. I mean, we mentioned so many brilliant books and philosophers, but it would be nice, sort of in a focused way to try to see if we can get some recommendations from you.\\n\", 'So what three books, technical or fiction or philosophical, had A and B, the worst question?\\n', \"Sorry, I don't want a small tangent. Is there other books of his. Yes.\\n\", \"If I could have this count as one the the birth and death of meaning the denial of death and escape from evil are three books of Ernest Bakker's that I believe to all be profound in a in a little sort of breve dance around topics I've only read now.\\n\", 'Death like what? How do those books connect in here.\\n', \"But I mean, you know, I've read all those books. I will tell you the last line of the plague. We learn in times of pestilence that there's more to admire in men than to despise. And I love that. Yeah.\\n\", \"Plagues such. I don't know. I find the plague is a brilliant Mayta before before the plague has come to us in twenty twenty. It was just so book about love about.\\n\", \"So there's a lot of social issues, a lot of existential issues, but it's basically a fictional account of someone who finds out that they're terminally ill and who reacts originally. As you might expect, anyone becomes more hostile to people who are different, like petty and stupid, denies that anything's happening. But as the book goes on and he comes more to terms with his own mortality, it ends lovingly. And I'm back to your idea of about, you know, love being incredibly potent.\\n\", 'And I like Faulkner. Absalom Absalom is a is a fine book.\\n', 'But would you is there something Heidegger connected in a book you recommend or. No. No. So maybe I got to abandon him. I mean, I mean being a time is awesome.\\n', \"And I'm like, this is where he's starting really to really shine for me. So, uh, yeah. Well, that's a beautiful set of books.\\n\", \"It opens up, you know, I think it was Kirkegaard who said consciousness gives us the possibility of possibilities and but there's another lunatic, Oswald Spangler, who wrote a book called Decline of the West.\\n\", \"Thanks. We'll do it again soon, I hope. Thanks for listening to this conversation with Sheldon Solomon and thank you to our sponsors Blankest Express, Ruben and Kashyap click the links in the description to get a discount. It's the best way to support this podcast to enjoy this thing. Subscribe on YouTube. Review Dardanup podcast. Follow on Spotify, support on Patrón or connect with me on Twitter, Allex Friedman. And now let me leave you with some words from Vladimir Nabokov that Sheldon uses in his book, Warm at the Core.\\n\"]\n"
          ],
          "name": "stdout"
        }
      ]
    },
    {
      "cell_type": "markdown",
      "metadata": {
        "id": "v50ZVjszI4Ei"
      },
      "source": [
        "### Run NER Model on this text and extract all book titles\n"
      ]
    },
    {
      "cell_type": "code",
      "metadata": {
        "colab": {
          "base_uri": "https://localhost:8080/"
        },
        "id": "DG3fIKJeI5MP",
        "outputId": "d71a82b4-2c20-4171-c6bc-bbf73cbc9006"
      },
      "source": [
        "book_titles = []\n",
        "\n",
        "for doc in nlp.pipe(text_with_book_context):\n",
        "    for ent in doc.ents:\n",
        "        if ent.label_ == ENTITY_LABEL:\n",
        "            if ent.text not in book_titles:\n",
        "                book_titles.append(ent.text)\n",
        "            print(\"Document text: \", doc.text)\n",
        "            print(\"Book Title: \", ent.text)"
      ],
      "execution_count": 17,
      "outputs": [
        {
          "output_type": "stream",
          "text": [
            "Document text:  It really is the best way to support this podcast. Let me say as a side note that Ernest Becker's book, Denial of Death, had a big impact on my thinking about human cognition, consciousness and the deep ocean currents of our mind that are behind the surface behaviors we observe. Many people have told me that they think about death or don't think about death, fear, death, or don't fear death. But I think not many people think about this topic deeply, rigorously in the way that Nietzsche suggested this topic.\n",
            "\n",
            "Book Title:  , Denial\n",
            "Document text:  He died in 1974 after weeks before actually he was posthumously awarded the Pulitzer Prize in nonfiction for his book The Denial of Death.\n",
            "\n",
            "Book Title:  The Denial of Death\n",
            "Document text:  And that was his last book. It's actually his next to last book. I don't know how you pulled this off, but he had one more after he died called Escape from Evil. And evidently it was supposed to originally the denial of death was supposed to be this giant thousand page book that was both. And they split it up. And the what became escape from evil. His wife, Marie Becker, finished.\n",
            "\n",
            "Book Title:  Escape from Evil\n",
            "Document text:  So I'm with Jared Diamond, you know, in the book Collapse, where he points out studying the collapse of major civilizations, that it often happens right after things appear to never have been better. Hmm.\n",
            "\n",
            "Book Title:  Jared Diamond\n",
            "Document text:  Hitler was elected and he was elected when Germans were in an extraordinary state of existential distress. And he said, I'm going to make Germany great again right now. What Becker adds to the equation is his claim that what underlies our affection for charismatic populist leaders, good and bad, is death anxiety. All right. Now here's where we come in, where egghead experimental researchers, you know, Becker wrote this book, The Denial of Death, and he couldn't get a job.\n",
            "\n",
            "Book Title:  Hitler\n",
            "Document text:  Hitler was elected and he was elected when Germans were in an extraordinary state of existential distress. And he said, I'm going to make Germany great again right now. What Becker adds to the equation is his claim that what underlies our affection for charismatic populist leaders, good and bad, is death anxiety. All right. Now here's where we come in, where egghead experimental researchers, you know, Becker wrote this book, The Denial of Death, and he couldn't get a job.\n",
            "\n",
            "Book Title:  The Denial of Death\n",
            "Document text:  So it's David Sloan. Wilson wrote a book called Darwin's Cathedral, and he said religion has nothing to do with death. It's evolved to make groups viable.\n",
            "\n",
            "Book Title:  Darwin's Cathedral\n",
            "Document text:  Wrote a book called In the Name of Identity, Violence and the Need to Belong, and that was his point, is that unless we can overcome this tribal mentality, this will not end well. But but you said earlier, something like that I think is profound and profoundly important.\n",
            "\n",
            "Book Title:  In the Name\n",
            "Document text:  Often by adverse consequences through trying something would be to run mental simulations. And so one possibility is that consciousness is highly adaptive. Another possibility is Nicholas Humphrey, a British dude who wrote a book about I think it's called Regaining Consciousness.\n",
            "\n",
            "Book Title:  Regaining Consciousness\n",
            "Document text:  The overriding one is about death, and that next is choice and responsibility. The next one is existential isolation. And they're like, that's one of the. Things about consciousness, that and the last one is meaninglessness, but the existential isolation point. As you know, we. Ah, by virtue of consciousness, able to apprehend the bin last year, a Siamese twin, you are fundamentally alone. And because it is claimed it's Eric from in a book called Escape from Freedom, he's like, look, you you're smart enough to know that the most direct way that we typically communicate with our fellow human beings is through language.\n",
            "\n",
            "Book Title:  Escape\n"
          ],
          "name": "stdout"
        }
      ]
    },
    {
      "cell_type": "code",
      "metadata": {
        "colab": {
          "base_uri": "https://localhost:8080/"
        },
        "id": "hISdvbMRJHBG",
        "outputId": "f0c749aa-0ef1-4d24-a7a2-c6c6e74ce0ee"
      },
      "source": [
        "book_titles"
      ],
      "execution_count": 18,
      "outputs": [
        {
          "output_type": "execute_result",
          "data": {
            "text/plain": [
              "[', Denial',\n",
              " 'The Denial of Death',\n",
              " 'Escape from Evil',\n",
              " 'Jared Diamond',\n",
              " 'Hitler',\n",
              " \"Darwin's Cathedral\",\n",
              " 'In the Name',\n",
              " 'Regaining Consciousness',\n",
              " 'Escape']"
            ]
          },
          "metadata": {
            "tags": []
          },
          "execution_count": 18
        }
      ]
    },
    {
      "cell_type": "markdown",
      "metadata": {
        "id": "QvgscZZvKQbH"
      },
      "source": [
        "-> Also a lot less book titles than previous versions of the model"
      ]
    },
    {
      "cell_type": "markdown",
      "metadata": {
        "id": "9AmqdWY-MuIo"
      },
      "source": [
        "### Save model on Google Drive\n",
        "because the download on Colab doesn't work that well"
      ]
    },
    {
      "cell_type": "code",
      "metadata": {
        "id": "Mf40G3G-MxrA"
      },
      "source": [
        "from google.colab import auth\n",
        "from googleapiclient.http import MediaFileUpload\n",
        "from googleapiclient.discovery import build\n",
        "\n",
        "auth.authenticate_user()"
      ],
      "execution_count": null,
      "outputs": []
    },
    {
      "cell_type": "code",
      "metadata": {
        "id": "sdUG7RgOM1YG"
      },
      "source": [
        "drive_service = build('drive', 'v3')\n",
        "\n",
        "def save_file_to_drive(name, path):\n",
        "    file_metadata = {\n",
        "      'name': name,\n",
        "      'mimeType': 'application/octet-stream'\n",
        "     }\n",
        "\n",
        "    media = MediaFileUpload(path, \n",
        "                    mimetype='application/octet-stream',\n",
        "                    resumable=True)\n",
        "\n",
        "    created = drive_service.files().create(body=file_metadata,\n",
        "                                  media_body=media,\n",
        "                                  fields='id').execute()\n",
        "\n",
        "    print('File ID: {}'.format(created.get('id')))\n",
        "\n",
        "    return created"
      ],
      "execution_count": null,
      "outputs": []
    },
    {
      "cell_type": "code",
      "metadata": {
        "colab": {
          "base_uri": "https://localhost:8080/"
        },
        "id": "Xygoe6IAM8Qy",
        "outputId": "a99729b1-5b87-4d50-cdf3-a8bfff5d5cb8"
      },
      "source": [
        "save_file_to_drive(\"./Google_Colab_Models\", \"/model-best.zip\")"
      ],
      "execution_count": null,
      "outputs": [
        {
          "output_type": "stream",
          "text": [
            "File ID: 1EtBG7ONqPmB395j37h-F3h0jKtCBRS_z\n"
          ],
          "name": "stdout"
        },
        {
          "output_type": "execute_result",
          "data": {
            "text/plain": [
              "{'id': '1EtBG7ONqPmB395j37h-F3h0jKtCBRS_z'}"
            ]
          },
          "metadata": {
            "tags": []
          },
          "execution_count": 25
        }
      ]
    },
    {
      "cell_type": "code",
      "metadata": {
        "id": "GdltBREvNTFy"
      },
      "source": [
        ""
      ],
      "execution_count": null,
      "outputs": []
    }
  ]
}